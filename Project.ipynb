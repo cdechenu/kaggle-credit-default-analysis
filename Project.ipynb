{
 "cells": [
  {
   "cell_type": "code",
   "execution_count": 1,
   "metadata": {
    "collapsed": false
   },
   "outputs": [
    {
     "name": "stdout",
     "output_type": "stream",
     "text": [
      "Populating the interactive namespace from numpy and matplotlib\n"
     ]
    }
   ],
   "source": [
    "#Project \n",
    "#First up linear regression.\n",
    "import pylab as pl\n",
    "%pylab inline\n",
    "import numpy as np\n",
    "import pandas as pd\n",
    "from pandas import DataFrame, concat\n",
    "import matplotlib.pyplot as plt\n",
    "# Let us load the dataset. This one is tab delimited...\n",
    "borrowers = pd.read_csv(u'./cs-training.csv')"
   ]
  },
  {
   "cell_type": "code",
   "execution_count": 2,
   "metadata": {
    "collapsed": false
   },
   "outputs": [
    {
     "data": {
      "text/plain": [
       "<matplotlib.collections.PathCollection at 0x1029db350>"
      ]
     },
     "execution_count": 2,
     "metadata": {},
     "output_type": "execute_result"
    },
    {
     "data": {
      "image/png": "[encoded data removed]",
      "text/plain": [
       "<matplotlib.figure.Figure at 0x10441ba90>"
      ]
     },
     "metadata": {},
     "output_type": "display_data"
    }
   ],
   "source": [
    "plt.scatter(borrowers['age'], borrowers['SeriousDlqin2yrs'])"
   ]
  },
  {
   "cell_type": "code",
   "execution_count": 3,
   "metadata": {
    "collapsed": false
   },
   "outputs": [
    {
     "data": {
      "text/plain": [
       "array([[<matplotlib.axes._subplots.AxesSubplot object at 0x107c4b2d0>,\n",
       "        <matplotlib.axes._subplots.AxesSubplot object at 0x10394fdd0>],\n",
       "       [<matplotlib.axes._subplots.AxesSubplot object at 0x107f1aa90>,\n",
       "        <matplotlib.axes._subplots.AxesSubplot object at 0x107f8a690>]], dtype=object)"
      ]
     },
     "execution_count": 3,
     "metadata": {},
     "output_type": "execute_result"
    },
    {
     "data": {
      "image/png": "[encoded data removed]",
      "text/plain": [
       "<matplotlib.figure.Figure at 0x107c54090>"
      ]
     },
     "metadata": {},
     "output_type": "display_data"
    }
   ],
   "source": [
    "pd.scatter_matrix(borrowers[['age', 'age']])"
   ]
  },
  {
   "cell_type": "code",
   "execution_count": 5,
   "metadata": {
    "collapsed": false
   },
   "outputs": [
    {
     "data": {
      "text/html": [
       "<div style=\"max-height:1000px;max-width:1500px;overflow:auto;\">\n",
       "<table border=\"1\" class=\"dataframe\">\n",
       "  <thead>\n",
       "    <tr style=\"text-align: right;\">\n",
       "      <th></th>\n",
       "      <th>Unnamed: 0</th>\n",
       "      <th>SeriousDlqin2yrs</th>\n",
       "      <th>RevolvingUtilizationOfUnsecuredLines</th>\n",
       "      <th>age</th>\n",
       "      <th>NumberOfTime30-59DaysPastDueNotWorse</th>\n",
       "      <th>DebtRatio</th>\n",
       "      <th>MonthlyIncome</th>\n",
       "      <th>NumberOfOpenCreditLinesAndLoans</th>\n",
       "      <th>NumberOfTimes90DaysLate</th>\n",
       "      <th>NumberRealEstateLoansOrLines</th>\n",
       "      <th>NumberOfTime60-89DaysPastDueNotWorse</th>\n",
       "      <th>NumberOfDependents</th>\n",
       "    </tr>\n",
       "  </thead>\n",
       "  <tbody>\n",
       "    <tr>\n",
       "      <th>65695</th>\n",
       "      <td> 65696</td>\n",
       "      <td> 0</td>\n",
       "      <td> 1</td>\n",
       "      <td> 0</td>\n",
       "      <td> 1</td>\n",
       "      <td> 0.436927</td>\n",
       "      <td> 6000</td>\n",
       "      <td> 6</td>\n",
       "      <td> 0</td>\n",
       "      <td> 2</td>\n",
       "      <td> 0</td>\n",
       "      <td> 2</td>\n",
       "    </tr>\n",
       "  </tbody>\n",
       "</table>\n",
       "</div>"
      ],
      "text/plain": [
       "       Unnamed: 0  SeriousDlqin2yrs  RevolvingUtilizationOfUnsecuredLines  \\\n",
       "65695       65696                 0                                     1   \n",
       "\n",
       "       age  NumberOfTime30-59DaysPastDueNotWorse  DebtRatio  MonthlyIncome  \\\n",
       "65695    0                                     1   0.436927           6000   \n",
       "\n",
       "       NumberOfOpenCreditLinesAndLoans  NumberOfTimes90DaysLate  \\\n",
       "65695                                6                        0   \n",
       "\n",
       "       NumberRealEstateLoansOrLines  NumberOfTime60-89DaysPastDueNotWorse  \\\n",
       "65695                             2                                     0   \n",
       "\n",
       "       NumberOfDependents  \n",
       "65695                   2  "
      ]
     },
     "execution_count": 5,
     "metadata": {},
     "output_type": "execute_result"
    }
   ],
   "source": [
    "borrowers[borrowers.age==0]"
   ]
  },
  {
   "cell_type": "code",
   "execution_count": 6,
   "metadata": {
    "collapsed": false
   },
   "outputs": [
    {
     "data": {
      "text/html": [
       "<div style=\"max-height:1000px;max-width:1500px;overflow:auto;\">\n",
       "<table border=\"1\" class=\"dataframe\">\n",
       "  <thead>\n",
       "    <tr style=\"text-align: right;\">\n",
       "      <th></th>\n",
       "      <th>Unnamed: 0</th>\n",
       "      <th>SeriousDlqin2yrs</th>\n",
       "      <th>RevolvingUtilizationOfUnsecuredLines</th>\n",
       "      <th>age</th>\n",
       "      <th>NumberOfTime30-59DaysPastDueNotWorse</th>\n",
       "      <th>DebtRatio</th>\n",
       "      <th>MonthlyIncome</th>\n",
       "      <th>NumberOfOpenCreditLinesAndLoans</th>\n",
       "      <th>NumberOfTimes90DaysLate</th>\n",
       "      <th>NumberRealEstateLoansOrLines</th>\n",
       "      <th>NumberOfTime60-89DaysPastDueNotWorse</th>\n",
       "      <th>NumberOfDependents</th>\n",
       "    </tr>\n",
       "  </thead>\n",
       "  <tbody>\n",
       "    <tr>\n",
       "      <th>0</th>\n",
       "      <td> 1</td>\n",
       "      <td> 1</td>\n",
       "      <td> 0.766127</td>\n",
       "      <td> 45</td>\n",
       "      <td> 2</td>\n",
       "      <td> 0.802982</td>\n",
       "      <td>  9120</td>\n",
       "      <td> 13</td>\n",
       "      <td> 0</td>\n",
       "      <td> 6</td>\n",
       "      <td> 0</td>\n",
       "      <td> 2</td>\n",
       "    </tr>\n",
       "    <tr>\n",
       "      <th>1</th>\n",
       "      <td> 2</td>\n",
       "      <td> 0</td>\n",
       "      <td> 0.957151</td>\n",
       "      <td> 40</td>\n",
       "      <td> 0</td>\n",
       "      <td> 0.121876</td>\n",
       "      <td>  2600</td>\n",
       "      <td>  4</td>\n",
       "      <td> 0</td>\n",
       "      <td> 0</td>\n",
       "      <td> 0</td>\n",
       "      <td> 1</td>\n",
       "    </tr>\n",
       "    <tr>\n",
       "      <th>2</th>\n",
       "      <td> 3</td>\n",
       "      <td> 0</td>\n",
       "      <td> 0.658180</td>\n",
       "      <td> 38</td>\n",
       "      <td> 1</td>\n",
       "      <td> 0.085113</td>\n",
       "      <td>  3042</td>\n",
       "      <td>  2</td>\n",
       "      <td> 1</td>\n",
       "      <td> 0</td>\n",
       "      <td> 0</td>\n",
       "      <td> 0</td>\n",
       "    </tr>\n",
       "    <tr>\n",
       "      <th>3</th>\n",
       "      <td> 4</td>\n",
       "      <td> 0</td>\n",
       "      <td> 0.233810</td>\n",
       "      <td> 30</td>\n",
       "      <td> 0</td>\n",
       "      <td> 0.036050</td>\n",
       "      <td>  3300</td>\n",
       "      <td>  5</td>\n",
       "      <td> 0</td>\n",
       "      <td> 0</td>\n",
       "      <td> 0</td>\n",
       "      <td> 0</td>\n",
       "    </tr>\n",
       "    <tr>\n",
       "      <th>4</th>\n",
       "      <td> 5</td>\n",
       "      <td> 0</td>\n",
       "      <td> 0.907239</td>\n",
       "      <td> 49</td>\n",
       "      <td> 1</td>\n",
       "      <td> 0.024926</td>\n",
       "      <td> 63588</td>\n",
       "      <td>  7</td>\n",
       "      <td> 0</td>\n",
       "      <td> 1</td>\n",
       "      <td> 0</td>\n",
       "      <td> 0</td>\n",
       "    </tr>\n",
       "  </tbody>\n",
       "</table>\n",
       "</div>"
      ],
      "text/plain": [
       "   Unnamed: 0  SeriousDlqin2yrs  RevolvingUtilizationOfUnsecuredLines  age  \\\n",
       "0           1                 1                              0.766127   45   \n",
       "1           2                 0                              0.957151   40   \n",
       "2           3                 0                              0.658180   38   \n",
       "3           4                 0                              0.233810   30   \n",
       "4           5                 0                              0.907239   49   \n",
       "\n",
       "   NumberOfTime30-59DaysPastDueNotWorse  DebtRatio  MonthlyIncome  \\\n",
       "0                                     2   0.802982           9120   \n",
       "1                                     0   0.121876           2600   \n",
       "2                                     1   0.085113           3042   \n",
       "3                                     0   0.036050           3300   \n",
       "4                                     1   0.024926          63588   \n",
       "\n",
       "   NumberOfOpenCreditLinesAndLoans  NumberOfTimes90DaysLate  \\\n",
       "0                               13                        0   \n",
       "1                                4                        0   \n",
       "2                                2                        1   \n",
       "3                                5                        0   \n",
       "4                                7                        0   \n",
       "\n",
       "   NumberRealEstateLoansOrLines  NumberOfTime60-89DaysPastDueNotWorse  \\\n",
       "0                             6                                     0   \n",
       "1                             0                                     0   \n",
       "2                             0                                     0   \n",
       "3                             0                                     0   \n",
       "4                             1                                     0   \n",
       "\n",
       "   NumberOfDependents  \n",
       "0                   2  \n",
       "1                   1  \n",
       "2                   0  \n",
       "3                   0  \n",
       "4                   0  "
      ]
     },
     "execution_count": 6,
     "metadata": {},
     "output_type": "execute_result"
    }
   ],
   "source": [
    "borrowers.head()"
   ]
  },
  {
   "cell_type": "code",
   "execution_count": 7,
   "metadata": {
    "collapsed": true
   },
   "outputs": [],
   "source": [
    "borrowers = borrowers.dropna()"
   ]
  },
  {
   "cell_type": "code",
   "execution_count": 8,
   "metadata": {
    "collapsed": false
   },
   "outputs": [
    {
     "data": {
      "text/plain": [
       "(120269, 12)"
      ]
     },
     "execution_count": 8,
     "metadata": {},
     "output_type": "execute_result"
    }
   ],
   "source": [
    "borrowers.shape"
   ]
  },
  {
   "cell_type": "code",
   "execution_count": 43,
   "metadata": {
    "collapsed": false
   },
   "outputs": [
    {
     "data": {
      "text/plain": [
       "LogisticRegression(C=1.0, class_weight=None, dual=False, fit_intercept=True,\n",
       "          intercept_scaling=1, penalty='l1', random_state=None, tol=0.0001)"
      ]
     },
     "execution_count": 43,
     "metadata": {},
     "output_type": "execute_result"
    }
   ],
   "source": [
    "# Let us create a logistic model instance\n",
    "from sklearn import linear_model\n",
    "\n",
    "logm = linear_model.LogisticRegression()\n",
    "logm.set_params(penalty='l1')"
   ]
  },
  {
   "cell_type": "code",
   "execution_count": 10,
   "metadata": {
    "collapsed": false
   },
   "outputs": [
    {
     "data": {
      "text/plain": [
       "array([1, 0, 0, ..., 0, 0, 0])"
      ]
     },
     "execution_count": 10,
     "metadata": {},
     "output_type": "execute_result"
    }
   ],
   "source": [
    "my_input = borrowers[['RevolvingUtilizationOfUnsecuredLines', 'age','NumberOfTime30-59DaysPastDueNotWorse', 'DebtRatio', 'MonthlyIncome', 'NumberOfOpenCreditLinesAndLoans', 'NumberOfTimes90DaysLate', 'NumberRealEstateLoansOrLines', 'NumberOfTime60-89DaysPastDueNotWorse','NumberOfDependents']].values\n",
    "\n",
    "default_output = borrowers['SeriousDlqin2yrs'].values\n",
    "\n",
    "default_output"
   ]
  },
  {
   "cell_type": "code",
   "execution_count": 11,
   "metadata": {
    "collapsed": false
   },
   "outputs": [
    {
     "data": {
      "text/plain": [
       "array([[  0.76612661,  45.        ,   2.        , ...,   6.        ,\n",
       "          0.        ,   2.        ],\n",
       "       [  0.95715102,  40.        ,   0.        , ...,   0.        ,\n",
       "          0.        ,   1.        ],\n",
       "       [  0.65818014,  38.        ,   1.        , ...,   0.        ,\n",
       "          0.        ,   0.        ],\n",
       "       ..., \n",
       "       [  0.29974515,  44.        ,   0.        , ...,   1.        ,\n",
       "          0.        ,   2.        ],\n",
       "       [  0.        ,  30.        ,   0.        , ...,   0.        ,\n",
       "          0.        ,   0.        ],\n",
       "       [  0.85028295,  64.        ,   0.        , ...,   2.        ,\n",
       "          0.        ,   0.        ]])"
      ]
     },
     "execution_count": 11,
     "metadata": {},
     "output_type": "execute_result"
    }
   ],
   "source": [
    "borrowers[['RevolvingUtilizationOfUnsecuredLines', 'age','NumberOfTime30-59DaysPastDueNotWorse', 'DebtRatio', 'MonthlyIncome', 'NumberOfOpenCreditLinesAndLoans', 'NumberOfTimes90DaysLate', 'NumberRealEstateLoansOrLines', 'NumberOfTime60-89DaysPastDueNotWorse','NumberOfDependents']].values"
   ]
  },
  {
   "cell_type": "code",
   "execution_count": 12,
   "metadata": {
    "collapsed": false
   },
   "outputs": [],
   "source": [
    "# Let us fit the model\n",
    "\n",
    "a=logm.fit(my_input, default_output)"
   ]
  },
  {
   "cell_type": "code",
   "execution_count": 13,
   "metadata": {
    "collapsed": false
   },
   "outputs": [
    {
     "data": {
      "text/plain": [
       "array([0, 0, 0, ..., 0, 0, 0])"
      ]
     },
     "execution_count": 13,
     "metadata": {},
     "output_type": "execute_result"
    }
   ],
   "source": [
    "logm.predict(my_input)"
   ]
  },
  {
   "cell_type": "code",
   "execution_count": 14,
   "metadata": {
    "collapsed": false
   },
   "outputs": [
    {
     "data": {
      "text/plain": [
       "0.930622188593902"
      ]
     },
     "execution_count": 14,
     "metadata": {},
     "output_type": "execute_result"
    }
   ],
   "source": [
    "logm.score(my_input, default_output)"
   ]
  },
  {
   "cell_type": "code",
   "execution_count": null,
   "metadata": {
    "collapsed": false,
    "scrolled": true
   },
   "outputs": [],
   "source": []
  },
  {
   "cell_type": "code",
   "execution_count": 15,
   "metadata": {
    "collapsed": false
   },
   "outputs": [],
   "source": [
    "#output results\n",
    "predictions = logm.predict_proba(my_input)[:,1]\n",
    "\n",
    "submission = DataFrame({'Id':borrowers.icol(0), 'Probability':predictions})\n",
    "submission.to_csv('Entry.csv', index=False)"
   ]
  },
  {
   "cell_type": "code",
   "execution_count": 16,
   "metadata": {
    "collapsed": true
   },
   "outputs": [],
   "source": [
    "borrowerstest = pd.read_csv(u'./cs-test.csv')"
   ]
  },
  {
   "cell_type": "code",
   "execution_count": 17,
   "metadata": {
    "collapsed": false
   },
   "outputs": [
    {
     "data": {
      "text/html": [
       "<div style=\"max-height:1000px;max-width:1500px;overflow:auto;\">\n",
       "<table border=\"1\" class=\"dataframe\">\n",
       "  <thead>\n",
       "    <tr style=\"text-align: right;\">\n",
       "      <th></th>\n",
       "      <th>Unnamed: 0</th>\n",
       "      <th>SeriousDlqin2yrs</th>\n",
       "      <th>RevolvingUtilizationOfUnsecuredLines</th>\n",
       "      <th>age</th>\n",
       "      <th>NumberOfTime30-59DaysPastDueNotWorse</th>\n",
       "      <th>DebtRatio</th>\n",
       "      <th>MonthlyIncome</th>\n",
       "      <th>NumberOfOpenCreditLinesAndLoans</th>\n",
       "      <th>NumberOfTimes90DaysLate</th>\n",
       "      <th>NumberRealEstateLoansOrLines</th>\n",
       "      <th>NumberOfTime60-89DaysPastDueNotWorse</th>\n",
       "      <th>NumberOfDependents</th>\n",
       "    </tr>\n",
       "  </thead>\n",
       "  <tbody>\n",
       "    <tr>\n",
       "      <th>0</th>\n",
       "      <td> 1</td>\n",
       "      <td>NaN</td>\n",
       "      <td> 0.885519</td>\n",
       "      <td> 43</td>\n",
       "      <td> 0</td>\n",
       "      <td> 0.177513</td>\n",
       "      <td> 5700</td>\n",
       "      <td>  4</td>\n",
       "      <td> 0</td>\n",
       "      <td> 0</td>\n",
       "      <td> 0</td>\n",
       "      <td> 0</td>\n",
       "    </tr>\n",
       "    <tr>\n",
       "      <th>1</th>\n",
       "      <td> 2</td>\n",
       "      <td>NaN</td>\n",
       "      <td> 0.463295</td>\n",
       "      <td> 57</td>\n",
       "      <td> 0</td>\n",
       "      <td> 0.527237</td>\n",
       "      <td> 9141</td>\n",
       "      <td> 15</td>\n",
       "      <td> 0</td>\n",
       "      <td> 4</td>\n",
       "      <td> 0</td>\n",
       "      <td> 2</td>\n",
       "    </tr>\n",
       "    <tr>\n",
       "      <th>2</th>\n",
       "      <td> 3</td>\n",
       "      <td>NaN</td>\n",
       "      <td> 0.043275</td>\n",
       "      <td> 59</td>\n",
       "      <td> 0</td>\n",
       "      <td> 0.687648</td>\n",
       "      <td> 5083</td>\n",
       "      <td> 12</td>\n",
       "      <td> 0</td>\n",
       "      <td> 1</td>\n",
       "      <td> 0</td>\n",
       "      <td> 2</td>\n",
       "    </tr>\n",
       "    <tr>\n",
       "      <th>3</th>\n",
       "      <td> 4</td>\n",
       "      <td>NaN</td>\n",
       "      <td> 0.280308</td>\n",
       "      <td> 38</td>\n",
       "      <td> 1</td>\n",
       "      <td> 0.925961</td>\n",
       "      <td> 3200</td>\n",
       "      <td>  7</td>\n",
       "      <td> 0</td>\n",
       "      <td> 2</td>\n",
       "      <td> 0</td>\n",
       "      <td> 0</td>\n",
       "    </tr>\n",
       "    <tr>\n",
       "      <th>4</th>\n",
       "      <td> 5</td>\n",
       "      <td>NaN</td>\n",
       "      <td> 1.000000</td>\n",
       "      <td> 27</td>\n",
       "      <td> 0</td>\n",
       "      <td> 0.019917</td>\n",
       "      <td> 3865</td>\n",
       "      <td>  4</td>\n",
       "      <td> 0</td>\n",
       "      <td> 0</td>\n",
       "      <td> 0</td>\n",
       "      <td> 1</td>\n",
       "    </tr>\n",
       "  </tbody>\n",
       "</table>\n",
       "</div>"
      ],
      "text/plain": [
       "   Unnamed: 0  SeriousDlqin2yrs  RevolvingUtilizationOfUnsecuredLines  age  \\\n",
       "0           1               NaN                              0.885519   43   \n",
       "1           2               NaN                              0.463295   57   \n",
       "2           3               NaN                              0.043275   59   \n",
       "3           4               NaN                              0.280308   38   \n",
       "4           5               NaN                              1.000000   27   \n",
       "\n",
       "   NumberOfTime30-59DaysPastDueNotWorse  DebtRatio  MonthlyIncome  \\\n",
       "0                                     0   0.177513           5700   \n",
       "1                                     0   0.527237           9141   \n",
       "2                                     0   0.687648           5083   \n",
       "3                                     1   0.925961           3200   \n",
       "4                                     0   0.019917           3865   \n",
       "\n",
       "   NumberOfOpenCreditLinesAndLoans  NumberOfTimes90DaysLate  \\\n",
       "0                                4                        0   \n",
       "1                               15                        0   \n",
       "2                               12                        0   \n",
       "3                                7                        0   \n",
       "4                                4                        0   \n",
       "\n",
       "   NumberRealEstateLoansOrLines  NumberOfTime60-89DaysPastDueNotWorse  \\\n",
       "0                             0                                     0   \n",
       "1                             4                                     0   \n",
       "2                             1                                     0   \n",
       "3                             2                                     0   \n",
       "4                             0                                     0   \n",
       "\n",
       "   NumberOfDependents  \n",
       "0                   0  \n",
       "1                   2  \n",
       "2                   2  \n",
       "3                   0  \n",
       "4                   1  "
      ]
     },
     "execution_count": 17,
     "metadata": {},
     "output_type": "execute_result"
    }
   ],
   "source": [
    "borrowerstest.head()"
   ]
  },
  {
   "cell_type": "code",
   "execution_count": 18,
   "metadata": {
    "collapsed": false
   },
   "outputs": [],
   "source": [
    "# Janitor work - let us rid na in some rows\n",
    "borrowerstest = borrowerstest.fillna(0)\n",
    "my_inputtest = borrowerstest[['RevolvingUtilizationOfUnsecuredLines', 'age','NumberOfTime30-59DaysPastDueNotWorse', 'DebtRatio', 'MonthlyIncome', 'NumberOfOpenCreditLinesAndLoans', 'NumberOfTimes90DaysLate', 'NumberRealEstateLoansOrLines', 'NumberOfTime60-89DaysPastDueNotWorse','NumberOfDependents']].values"
   ]
  },
  {
   "cell_type": "code",
   "execution_count": 19,
   "metadata": {
    "collapsed": false
   },
   "outputs": [],
   "source": [
    "#output results\n",
    "predictionstest = logm.predict_proba(my_inputtest)[:,1]\n",
    "\n",
    "submission = DataFrame({'Id':borrowerstest.icol(0), 'Probability':predictionstest})\n",
    "submission.to_csv('Entry.csv', index=False)"
   ]
  },
  {
   "cell_type": "code",
   "execution_count": 20,
   "metadata": {
    "collapsed": false
   },
   "outputs": [
    {
     "data": {
      "text/html": [
       "<div style=\"max-height:1000px;max-width:1500px;overflow:auto;\">\n",
       "<table border=\"1\" class=\"dataframe\">\n",
       "  <thead>\n",
       "    <tr style=\"text-align: right;\">\n",
       "      <th></th>\n",
       "      <th>RevolvingUtilizationOfUnsecuredLines</th>\n",
       "      <th>age</th>\n",
       "      <th>NumberOfTime30-59DaysPastDueNotWorse</th>\n",
       "      <th>DebtRatio</th>\n",
       "      <th>MonthlyIncome</th>\n",
       "      <th>NumberOfOpenCreditLinesAndLoans</th>\n",
       "      <th>NumberOfTimes90DaysLate</th>\n",
       "      <th>NumberRealEstateLoansOrLines</th>\n",
       "      <th>NumberOfTime60-89DaysPastDueNotWorse</th>\n",
       "      <th>NumberOfDependents</th>\n",
       "    </tr>\n",
       "  </thead>\n",
       "  <tbody>\n",
       "    <tr>\n",
       "      <th>RevolvingUtilizationOfUnsecuredLines</th>\n",
       "      <td> 1.000000</td>\n",
       "      <td>-0.005476</td>\n",
       "      <td>-0.001194</td>\n",
       "      <td>-0.000243</td>\n",
       "      <td> 0.007124</td>\n",
       "      <td>-0.010880</td>\n",
       "      <td>-0.000931</td>\n",
       "      <td> 0.005895</td>\n",
       "      <td>-0.000955</td>\n",
       "      <td> 0.002347</td>\n",
       "    </tr>\n",
       "    <tr>\n",
       "      <th>age</th>\n",
       "      <td>-0.005476</td>\n",
       "      <td> 1.000000</td>\n",
       "      <td>-0.049177</td>\n",
       "      <td>-0.001260</td>\n",
       "      <td> 0.037717</td>\n",
       "      <td> 0.187112</td>\n",
       "      <td>-0.047889</td>\n",
       "      <td> 0.065110</td>\n",
       "      <td>-0.043501</td>\n",
       "      <td>-0.206397</td>\n",
       "    </tr>\n",
       "    <tr>\n",
       "      <th>NumberOfTime30-59DaysPastDueNotWorse</th>\n",
       "      <td>-0.001194</td>\n",
       "      <td>-0.049177</td>\n",
       "      <td> 1.000000</td>\n",
       "      <td>-0.001981</td>\n",
       "      <td>-0.010217</td>\n",
       "      <td>-0.043868</td>\n",
       "      <td> 0.975259</td>\n",
       "      <td>-0.024036</td>\n",
       "      <td> 0.980131</td>\n",
       "      <td> 0.003538</td>\n",
       "    </tr>\n",
       "    <tr>\n",
       "      <th>DebtRatio</th>\n",
       "      <td>-0.000243</td>\n",
       "      <td>-0.001260</td>\n",
       "      <td>-0.001981</td>\n",
       "      <td> 1.000000</td>\n",
       "      <td>-0.028712</td>\n",
       "      <td> 0.008685</td>\n",
       "      <td>-0.002703</td>\n",
       "      <td> 0.019574</td>\n",
       "      <td>-0.001801</td>\n",
       "      <td> 0.009803</td>\n",
       "    </tr>\n",
       "    <tr>\n",
       "      <th>MonthlyIncome</th>\n",
       "      <td> 0.007124</td>\n",
       "      <td> 0.037717</td>\n",
       "      <td>-0.010217</td>\n",
       "      <td>-0.028712</td>\n",
       "      <td> 1.000000</td>\n",
       "      <td> 0.091455</td>\n",
       "      <td>-0.012743</td>\n",
       "      <td> 0.124959</td>\n",
       "      <td>-0.011116</td>\n",
       "      <td> 0.062647</td>\n",
       "    </tr>\n",
       "    <tr>\n",
       "      <th>NumberOfOpenCreditLinesAndLoans</th>\n",
       "      <td>-0.010880</td>\n",
       "      <td> 0.187112</td>\n",
       "      <td>-0.043868</td>\n",
       "      <td> 0.008685</td>\n",
       "      <td> 0.091455</td>\n",
       "      <td> 1.000000</td>\n",
       "      <td>-0.072249</td>\n",
       "      <td> 0.426536</td>\n",
       "      <td>-0.061505</td>\n",
       "      <td> 0.038342</td>\n",
       "    </tr>\n",
       "    <tr>\n",
       "      <th>NumberOfTimes90DaysLate</th>\n",
       "      <td>-0.000931</td>\n",
       "      <td>-0.047889</td>\n",
       "      <td> 0.975259</td>\n",
       "      <td>-0.002703</td>\n",
       "      <td>-0.012743</td>\n",
       "      <td>-0.072249</td>\n",
       "      <td> 1.000000</td>\n",
       "      <td>-0.040573</td>\n",
       "      <td> 0.989277</td>\n",
       "      <td>-0.003779</td>\n",
       "    </tr>\n",
       "    <tr>\n",
       "      <th>NumberRealEstateLoansOrLines</th>\n",
       "      <td> 0.005895</td>\n",
       "      <td> 0.065110</td>\n",
       "      <td>-0.024036</td>\n",
       "      <td> 0.019574</td>\n",
       "      <td> 0.124959</td>\n",
       "      <td> 0.426536</td>\n",
       "      <td>-0.040573</td>\n",
       "      <td> 1.000000</td>\n",
       "      <td>-0.034118</td>\n",
       "      <td> 0.118997</td>\n",
       "    </tr>\n",
       "    <tr>\n",
       "      <th>NumberOfTime60-89DaysPastDueNotWorse</th>\n",
       "      <td>-0.000955</td>\n",
       "      <td>-0.043501</td>\n",
       "      <td> 0.980131</td>\n",
       "      <td>-0.001801</td>\n",
       "      <td>-0.011116</td>\n",
       "      <td>-0.061505</td>\n",
       "      <td> 0.989277</td>\n",
       "      <td>-0.034118</td>\n",
       "      <td> 1.000000</td>\n",
       "      <td>-0.005092</td>\n",
       "    </tr>\n",
       "    <tr>\n",
       "      <th>NumberOfDependents</th>\n",
       "      <td> 0.002347</td>\n",
       "      <td>-0.206397</td>\n",
       "      <td> 0.003538</td>\n",
       "      <td> 0.009803</td>\n",
       "      <td> 0.062647</td>\n",
       "      <td> 0.038342</td>\n",
       "      <td>-0.003779</td>\n",
       "      <td> 0.118997</td>\n",
       "      <td>-0.005092</td>\n",
       "      <td> 1.000000</td>\n",
       "    </tr>\n",
       "  </tbody>\n",
       "</table>\n",
       "</div>"
      ],
      "text/plain": [
       "                                      RevolvingUtilizationOfUnsecuredLines  \\\n",
       "RevolvingUtilizationOfUnsecuredLines                              1.000000   \n",
       "age                                                              -0.005476   \n",
       "NumberOfTime30-59DaysPastDueNotWorse                             -0.001194   \n",
       "DebtRatio                                                        -0.000243   \n",
       "MonthlyIncome                                                     0.007124   \n",
       "NumberOfOpenCreditLinesAndLoans                                  -0.010880   \n",
       "NumberOfTimes90DaysLate                                          -0.000931   \n",
       "NumberRealEstateLoansOrLines                                      0.005895   \n",
       "NumberOfTime60-89DaysPastDueNotWorse                             -0.000955   \n",
       "NumberOfDependents                                                0.002347   \n",
       "\n",
       "                                           age  \\\n",
       "RevolvingUtilizationOfUnsecuredLines -0.005476   \n",
       "age                                   1.000000   \n",
       "NumberOfTime30-59DaysPastDueNotWorse -0.049177   \n",
       "DebtRatio                            -0.001260   \n",
       "MonthlyIncome                         0.037717   \n",
       "NumberOfOpenCreditLinesAndLoans       0.187112   \n",
       "NumberOfTimes90DaysLate              -0.047889   \n",
       "NumberRealEstateLoansOrLines          0.065110   \n",
       "NumberOfTime60-89DaysPastDueNotWorse -0.043501   \n",
       "NumberOfDependents                   -0.206397   \n",
       "\n",
       "                                      NumberOfTime30-59DaysPastDueNotWorse  \\\n",
       "RevolvingUtilizationOfUnsecuredLines                             -0.001194   \n",
       "age                                                              -0.049177   \n",
       "NumberOfTime30-59DaysPastDueNotWorse                              1.000000   \n",
       "DebtRatio                                                        -0.001981   \n",
       "MonthlyIncome                                                    -0.010217   \n",
       "NumberOfOpenCreditLinesAndLoans                                  -0.043868   \n",
       "NumberOfTimes90DaysLate                                           0.975259   \n",
       "NumberRealEstateLoansOrLines                                     -0.024036   \n",
       "NumberOfTime60-89DaysPastDueNotWorse                              0.980131   \n",
       "NumberOfDependents                                                0.003538   \n",
       "\n",
       "                                      DebtRatio  MonthlyIncome  \\\n",
       "RevolvingUtilizationOfUnsecuredLines  -0.000243       0.007124   \n",
       "age                                   -0.001260       0.037717   \n",
       "NumberOfTime30-59DaysPastDueNotWorse  -0.001981      -0.010217   \n",
       "DebtRatio                              1.000000      -0.028712   \n",
       "MonthlyIncome                         -0.028712       1.000000   \n",
       "NumberOfOpenCreditLinesAndLoans        0.008685       0.091455   \n",
       "NumberOfTimes90DaysLate               -0.002703      -0.012743   \n",
       "NumberRealEstateLoansOrLines           0.019574       0.124959   \n",
       "NumberOfTime60-89DaysPastDueNotWorse  -0.001801      -0.011116   \n",
       "NumberOfDependents                     0.009803       0.062647   \n",
       "\n",
       "                                      NumberOfOpenCreditLinesAndLoans  \\\n",
       "RevolvingUtilizationOfUnsecuredLines                        -0.010880   \n",
       "age                                                          0.187112   \n",
       "NumberOfTime30-59DaysPastDueNotWorse                        -0.043868   \n",
       "DebtRatio                                                    0.008685   \n",
       "MonthlyIncome                                                0.091455   \n",
       "NumberOfOpenCreditLinesAndLoans                              1.000000   \n",
       "NumberOfTimes90DaysLate                                     -0.072249   \n",
       "NumberRealEstateLoansOrLines                                 0.426536   \n",
       "NumberOfTime60-89DaysPastDueNotWorse                        -0.061505   \n",
       "NumberOfDependents                                           0.038342   \n",
       "\n",
       "                                      NumberOfTimes90DaysLate  \\\n",
       "RevolvingUtilizationOfUnsecuredLines                -0.000931   \n",
       "age                                                 -0.047889   \n",
       "NumberOfTime30-59DaysPastDueNotWorse                 0.975259   \n",
       "DebtRatio                                           -0.002703   \n",
       "MonthlyIncome                                       -0.012743   \n",
       "NumberOfOpenCreditLinesAndLoans                     -0.072249   \n",
       "NumberOfTimes90DaysLate                              1.000000   \n",
       "NumberRealEstateLoansOrLines                        -0.040573   \n",
       "NumberOfTime60-89DaysPastDueNotWorse                 0.989277   \n",
       "NumberOfDependents                                  -0.003779   \n",
       "\n",
       "                                      NumberRealEstateLoansOrLines  \\\n",
       "RevolvingUtilizationOfUnsecuredLines                      0.005895   \n",
       "age                                                       0.065110   \n",
       "NumberOfTime30-59DaysPastDueNotWorse                     -0.024036   \n",
       "DebtRatio                                                 0.019574   \n",
       "MonthlyIncome                                             0.124959   \n",
       "NumberOfOpenCreditLinesAndLoans                           0.426536   \n",
       "NumberOfTimes90DaysLate                                  -0.040573   \n",
       "NumberRealEstateLoansOrLines                              1.000000   \n",
       "NumberOfTime60-89DaysPastDueNotWorse                     -0.034118   \n",
       "NumberOfDependents                                        0.118997   \n",
       "\n",
       "                                      NumberOfTime60-89DaysPastDueNotWorse  \\\n",
       "RevolvingUtilizationOfUnsecuredLines                             -0.000955   \n",
       "age                                                              -0.043501   \n",
       "NumberOfTime30-59DaysPastDueNotWorse                              0.980131   \n",
       "DebtRatio                                                        -0.001801   \n",
       "MonthlyIncome                                                    -0.011116   \n",
       "NumberOfOpenCreditLinesAndLoans                                  -0.061505   \n",
       "NumberOfTimes90DaysLate                                           0.989277   \n",
       "NumberRealEstateLoansOrLines                                     -0.034118   \n",
       "NumberOfTime60-89DaysPastDueNotWorse                              1.000000   \n",
       "NumberOfDependents                                               -0.005092   \n",
       "\n",
       "                                      NumberOfDependents  \n",
       "RevolvingUtilizationOfUnsecuredLines            0.002347  \n",
       "age                                            -0.206397  \n",
       "NumberOfTime30-59DaysPastDueNotWorse            0.003538  \n",
       "DebtRatio                                       0.009803  \n",
       "MonthlyIncome                                   0.062647  \n",
       "NumberOfOpenCreditLinesAndLoans                 0.038342  \n",
       "NumberOfTimes90DaysLate                        -0.003779  \n",
       "NumberRealEstateLoansOrLines                    0.118997  \n",
       "NumberOfTime60-89DaysPastDueNotWorse           -0.005092  \n",
       "NumberOfDependents                              1.000000  "
      ]
     },
     "execution_count": 20,
     "metadata": {},
     "output_type": "execute_result"
    }
   ],
   "source": [
    "borrowers[['RevolvingUtilizationOfUnsecuredLines', 'age','NumberOfTime30-59DaysPastDueNotWorse', 'DebtRatio', 'MonthlyIncome', 'NumberOfOpenCreditLinesAndLoans', 'NumberOfTimes90DaysLate', 'NumberRealEstateLoansOrLines', 'NumberOfTime60-89DaysPastDueNotWorse','NumberOfDependents']].corr()"
   ]
  },
  {
   "cell_type": "code",
   "execution_count": 21,
   "metadata": {
    "collapsed": false,
    "scrolled": false
   },
   "outputs": [
    {
     "data": {
      "image/png": "[encoded data removed]",
      "text/plain": [
       "<matplotlib.figure.Figure at 0x1081be250>"
      ]
     },
     "metadata": {},
     "output_type": "display_data"
    }
   ],
   "source": [
    "column_labels = ('RevolvingUtilizationOfUnsecuredLines', 'age','NumberOfTime30-59DaysPastDueNotWorse', 'DebtRatio', 'MonthlyIncome', 'NumberOfOpenCreditLinesAndLoans', 'NumberOfTimes90DaysLate', 'NumberRealEstateLoansOrLines', 'NumberOfTime60-89DaysPastDueNotWorse','NumberOfDependents')\n",
    "row_labels = ('RevolvingUtilizationOfUnsecuredLines', 'age','NumberOfTime30-59DaysPastDueNotWorse', 'DebtRatio', 'MonthlyIncome', 'NumberOfOpenCreditLinesAndLoans', 'NumberOfTimes90DaysLate', 'NumberRealEstateLoansOrLines', 'NumberOfTime60-89DaysPastDueNotWorse','NumberOfDependents')\n",
    "data = borrowers[['RevolvingUtilizationOfUnsecuredLines', 'age','NumberOfTime30-59DaysPastDueNotWorse', 'DebtRatio', 'MonthlyIncome', 'NumberOfOpenCreditLinesAndLoans', 'NumberOfTimes90DaysLate', 'NumberRealEstateLoansOrLines', 'NumberOfTime60-89DaysPastDueNotWorse','NumberOfDependents']].corr().values\n",
    "fig, ax = plt.subplots()\n",
    "heatmap = ax.pcolor(data, cmap=plt.cm.Blues)\n",
    "\n",
    "# put the major ticks at the middle of each cell\n",
    "ax.set_xticks(np.arange(data.shape[0])+0.5, minor=False)\n",
    "ax.set_yticks(np.arange(data.shape[1])+0.5, minor=False)\n",
    "\n",
    "# want a more natural, table-like display\n",
    "ax.invert_yaxis()\n",
    "ax.xaxis.tick_top()\n",
    "\n",
    "\n",
    "ax.set_xticklabels(row_labels, minor=False, rotation=90)\n",
    "ax.set_yticklabels(column_labels, minor=False)\n",
    "\n",
    "plt.show()"
   ]
  },
  {
   "cell_type": "code",
   "execution_count": 22,
   "metadata": {
    "collapsed": false
   },
   "outputs": [
    {
     "data": {
      "text/plain": [
       "array([1, 0, 0, ..., 0, 0, 0])"
      ]
     },
     "execution_count": 22,
     "metadata": {},
     "output_type": "execute_result"
    }
   ],
   "source": [
    "#remove correlated variables.\n",
    "\n",
    "my_input = borrowers[['RevolvingUtilizationOfUnsecuredLines', 'age', 'DebtRatio', 'MonthlyIncome', 'NumberOfOpenCreditLinesAndLoans', 'NumberOfTimes90DaysLate', 'NumberRealEstateLoansOrLines','NumberOfDependents']].values\n",
    "\n",
    "default_output = borrowers['SeriousDlqin2yrs'].values\n",
    "\n",
    "default_output"
   ]
  },
  {
   "cell_type": "code",
   "execution_count": 23,
   "metadata": {
    "collapsed": false
   },
   "outputs": [
    {
     "data": {
      "image/png": "[encoded data removed]",
      "text/plain": [
       "<matplotlib.figure.Figure at 0x10ec1fed0>"
      ]
     },
     "metadata": {},
     "output_type": "display_data"
    }
   ],
   "source": [
    "column_labels = ('RevolvingUtilizationOfUnsecuredLines', 'age', 'DebtRatio', 'MonthlyIncome', 'NumberOfOpenCreditLinesAndLoans', 'NumberOfTimes90DaysLate', 'NumberRealEstateLoansOrLines','NumberOfDependents')\n",
    "row_labels = ('RevolvingUtilizationOfUnsecuredLines', 'age', 'DebtRatio', 'MonthlyIncome', 'NumberOfOpenCreditLinesAndLoans', 'NumberOfTimes90DaysLate', 'NumberRealEstateLoansOrLines','NumberOfDependents')\n",
    "data = borrowers[['RevolvingUtilizationOfUnsecuredLines', 'age', 'DebtRatio', 'MonthlyIncome', 'NumberOfOpenCreditLinesAndLoans', 'NumberOfTimes90DaysLate', 'NumberRealEstateLoansOrLines','NumberOfDependents']].corr().values\n",
    "fig, ax = plt.subplots()\n",
    "heatmap = ax.pcolor(data, cmap=plt.cm.Blues)\n",
    "\n",
    "# put the major ticks at the middle of each cell\n",
    "ax.set_xticks(np.arange(data.shape[0])+0.5, minor=False)\n",
    "ax.set_yticks(np.arange(data.shape[1])+0.5, minor=False)\n",
    "\n",
    "# want a more natural, table-like display\n",
    "ax.invert_yaxis()\n",
    "ax.xaxis.tick_top()\n",
    "\n",
    "\n",
    "ax.set_xticklabels(row_labels, minor=False, rotation=90)\n",
    "ax.set_yticklabels(column_labels, minor=False)\n",
    "\n",
    "plt.show()"
   ]
  },
  {
   "cell_type": "code",
   "execution_count": 24,
   "metadata": {
    "collapsed": false
   },
   "outputs": [
    {
     "data": {
      "text/plain": [
       "0.93066376206670043"
      ]
     },
     "execution_count": 24,
     "metadata": {},
     "output_type": "execute_result"
    }
   ],
   "source": [
    "a=logm.fit(my_input, default_output)\n",
    "logm.score(my_input, default_output)"
   ]
  },
  {
   "cell_type": "code",
   "execution_count": 25,
   "metadata": {
    "collapsed": true
   },
   "outputs": [],
   "source": [
    "my_inputtest = borrowerstest[['RevolvingUtilizationOfUnsecuredLines', 'age', 'DebtRatio', 'MonthlyIncome', 'NumberOfOpenCreditLinesAndLoans', 'NumberOfTimes90DaysLate', 'NumberRealEstateLoansOrLines','NumberOfDependents']].values"
   ]
  },
  {
   "cell_type": "code",
   "execution_count": 26,
   "metadata": {
    "collapsed": true
   },
   "outputs": [],
   "source": [
    "#output results\n",
    "predictionstest = logm.predict_proba(my_inputtest)[:,1]\n",
    "\n",
    "submission = DataFrame({'Id':borrowerstest.icol(0), 'Probability':predictionstest})\n",
    "submission.to_csv('Entry.csv', index=False)"
   ]
  },
  {
   "cell_type": "code",
   "execution_count": 27,
   "metadata": {
    "collapsed": false
   },
   "outputs": [
    {
     "data": {
      "text/plain": [
       "LogisticRegression(C=1.0, class_weight=None, dual=False, fit_intercept=True,\n",
       "          intercept_scaling=1, penalty='l1', random_state=None, tol=0.0001)"
      ]
     },
     "execution_count": 27,
     "metadata": {},
     "output_type": "execute_result"
    }
   ],
   "source": [
    "logm.set_params(penalty='l1')"
   ]
  },
  {
   "cell_type": "code",
   "execution_count": 5,
   "metadata": {
    "collapsed": false
   },
   "outputs": [],
   "source": [
    "from sklearn import datasets, metrics"
   ]
  },
  {
   "cell_type": "code",
   "execution_count": 6,
   "metadata": {
    "collapsed": true
   },
   "outputs": [],
   "source": [
    "# We import the Gaussian Naive Bayes module\n",
    "from sklearn.naive_bayes import GaussianNB"
   ]
  },
  {
   "cell_type": "code",
   "execution_count": 7,
   "metadata": {
    "collapsed": false
   },
   "outputs": [],
   "source": [
    "# Create an instance of the classifiers\n",
    "gnb = GaussianNB()"
   ]
  },
  {
   "cell_type": "code",
   "execution_count": 9,
   "metadata": {
    "collapsed": true
   },
   "outputs": [],
   "source": [
    "y_pred = gnb.fit(my_input, default_output).predict(my_input)\n"
   ]
  },
  {
   "cell_type": "code",
   "execution_count": 32,
   "metadata": {
    "collapsed": false
   },
   "outputs": [
    {
     "data": {
      "text/plain": [
       "array([1, 0, 0, ..., 0, 0, 0])"
      ]
     },
     "execution_count": 32,
     "metadata": {},
     "output_type": "execute_result"
    }
   ],
   "source": [
    "y_pred"
   ]
  },
  {
   "cell_type": "code",
   "execution_count": 33,
   "metadata": {
    "collapsed": false
   },
   "outputs": [
    {
     "name": "stdout",
     "output_type": "stream",
     "text": [
      "Number of mislabelled points: 8890\n",
      "Out of: 120269\n"
     ]
    }
   ],
   "source": [
    "# Let's see how well we did\n",
    "print 'Number of mislabelled points: {0}'.format((default_output != y_pred).sum())\n",
    "print 'Out of: {0}'.format(((default_output == y_pred)+(default_output != y_pred)).sum())"
   ]
  },
  {
   "cell_type": "code",
   "execution_count": 34,
   "metadata": {
    "collapsed": false
   },
   "outputs": [
    {
     "data": {
      "text/plain": [
       "0.9260823653643083"
      ]
     },
     "execution_count": 34,
     "metadata": {},
     "output_type": "execute_result"
    }
   ],
   "source": [
    "(120269-8890)/120269.0"
   ]
  },
  {
   "cell_type": "code",
   "execution_count": 35,
   "metadata": {
    "collapsed": false
   },
   "outputs": [
    {
     "data": {
      "text/plain": [
       "0.92608236536430832"
      ]
     },
     "execution_count": 35,
     "metadata": {},
     "output_type": "execute_result"
    }
   ],
   "source": [
    "gnb.score(my_input, default_output)"
   ]
  },
  {
   "cell_type": "code",
   "execution_count": 36,
   "metadata": {
    "collapsed": false
   },
   "outputs": [],
   "source": [
    "# ROC\n",
    "fpr, tpr, thresholds = metrics.roc_curve(default_output, y_pred)"
   ]
  },
  {
   "cell_type": "code",
   "execution_count": 37,
   "metadata": {
    "collapsed": false
   },
   "outputs": [
    {
     "data": {
      "text/plain": [
       "array([1, 0, 0, ..., 0, 0, 0])"
      ]
     },
     "execution_count": 37,
     "metadata": {},
     "output_type": "execute_result"
    }
   ],
   "source": [
    "default_output"
   ]
  },
  {
   "cell_type": "code",
   "execution_count": 38,
   "metadata": {
    "collapsed": false
   },
   "outputs": [
    {
     "data": {
      "text/plain": [
       "array([1, 0, 0, ..., 0, 0, 0])"
      ]
     },
     "execution_count": 38,
     "metadata": {},
     "output_type": "execute_result"
    }
   ],
   "source": [
    "y_pred"
   ]
  },
  {
   "cell_type": "code",
   "execution_count": 39,
   "metadata": {
    "collapsed": true
   },
   "outputs": [],
   "source": [
    "#?metrics.roc_curve"
   ]
  },
  {
   "cell_type": "code",
   "execution_count": 40,
   "metadata": {
    "collapsed": false
   },
   "outputs": [
    {
     "data": {
      "text/plain": [
       "[<matplotlib.lines.Line2D at 0x109eb3610>]"
      ]
     },
     "execution_count": 40,
     "metadata": {},
     "output_type": "execute_result"
    },
    {
     "data": {
      "image/png": "[encoded data removed]",
      "text/plain": [
       "<matplotlib.figure.Figure at 0x10b4c9b90>"
      ]
     },
     "metadata": {},
     "output_type": "display_data"
    }
   ],
   "source": [
    "plt.plot(fpr, tpr)"
   ]
  },
  {
   "cell_type": "code",
   "execution_count": 41,
   "metadata": {
    "collapsed": false
   },
   "outputs": [
    {
     "data": {
      "text/plain": [
       "array([ 0.        ,  0.00851562,  1.        ])"
      ]
     },
     "execution_count": 41,
     "metadata": {},
     "output_type": "execute_result"
    }
   ],
   "source": [
    "fpr"
   ]
  },
  {
   "cell_type": "code",
   "execution_count": 42,
   "metadata": {
    "collapsed": false
   },
   "outputs": [
    {
     "data": {
      "text/plain": [
       "array([ 0.        ,  0.05025727,  1.        ])"
      ]
     },
     "execution_count": 42,
     "metadata": {},
     "output_type": "execute_result"
    }
   ],
   "source": [
    "tpr"
   ]
  },
  {
   "cell_type": "code",
   "execution_count": 43,
   "metadata": {
    "collapsed": false
   },
   "outputs": [
    {
     "data": {
      "text/plain": [
       "array([[110959,    953],\n",
       "       [  7937,    420]])"
      ]
     },
     "execution_count": 43,
     "metadata": {},
     "output_type": "execute_result"
    }
   ],
   "source": [
    "metrics.confusion_matrix(default_output, y_pred)"
   ]
  },
  {
   "cell_type": "code",
   "execution_count": 44,
   "metadata": {
    "collapsed": false
   },
   "outputs": [],
   "source": [
    "predictionstest= gnb.predict_proba(my_inputtest)[:,1]\n",
    "#predictionstest\n",
    "submission = DataFrame({'Id':borrowerstest.icol(0), 'Probability':predictionstest})\n",
    "submission.to_csv('Entry.csv', index=False)"
   ]
  },
  {
   "cell_type": "code",
   "execution_count": 45,
   "metadata": {
    "collapsed": false
   },
   "outputs": [
    {
     "data": {
      "text/plain": [
       "array([[<matplotlib.axes._subplots.AxesSubplot object at 0x109aaec10>,\n",
       "        <matplotlib.axes._subplots.AxesSubplot object at 0x1080be090>],\n",
       "       [<matplotlib.axes._subplots.AxesSubplot object at 0x1080d4590>,\n",
       "        <matplotlib.axes._subplots.AxesSubplot object at 0x10b5404d0>]], dtype=object)"
      ]
     },
     "execution_count": 45,
     "metadata": {},
     "output_type": "execute_result"
    },
    {
     "data": {
      "image/png": "[encoded data removed]",
      "text/plain": [
       "<matplotlib.figure.Figure at 0x108a3c650>"
      ]
     },
     "metadata": {},
     "output_type": "display_data"
    }
   ],
   "source": [
    "pd.scatter_matrix(borrowers[['NumberOfTimes90DaysLate', 'NumberOfTimes90DaysLate']])"
   ]
  },
  {
   "cell_type": "code",
   "execution_count": 46,
   "metadata": {
    "collapsed": false
   },
   "outputs": [
    {
     "data": {
      "text/plain": [
       "array([[<matplotlib.axes._subplots.AxesSubplot object at 0x107c77090>,\n",
       "        <matplotlib.axes._subplots.AxesSubplot object at 0x108374cd0>],\n",
       "       [<matplotlib.axes._subplots.AxesSubplot object at 0x10b47ea90>,\n",
       "        <matplotlib.axes._subplots.AxesSubplot object at 0x10e02a610>]], dtype=object)"
      ]
     },
     "execution_count": 46,
     "metadata": {},
     "output_type": "execute_result"
    },
    {
     "data": {
      "image/png": "[encoded data removed]",
      "text/plain": [
       "<matplotlib.figure.Figure at 0x10e91f350>"
      ]
     },
     "metadata": {},
     "output_type": "display_data"
    }
   ],
   "source": [
    "pd.scatter_matrix(borrowers[['NumberOfTimes90DaysLate', 'age']], alpha=0.2, figsize=(6, 6), diagonal='kde')"
   ]
  },
  {
   "cell_type": "code",
   "execution_count": 47,
   "metadata": {
    "collapsed": false
   },
   "outputs": [],
   "source": [
    "#Lets try cleaning the data more and dropping outliers from the training set.\n",
    "borrowers = borrowers[borrowers.NumberOfTimes90DaysLate < 97]"
   ]
  },
  {
   "cell_type": "code",
   "execution_count": 48,
   "metadata": {
    "collapsed": false
   },
   "outputs": [
    {
     "data": {
      "text/plain": [
       "96"
      ]
     },
     "execution_count": 48,
     "metadata": {},
     "output_type": "execute_result"
    }
   ],
   "source": [
    "max(borrowers.NumberOfTimes90DaysLate)"
   ]
  },
  {
   "cell_type": "code",
   "execution_count": 49,
   "metadata": {
    "collapsed": true
   },
   "outputs": [],
   "source": [
    "borrowers = borrowers[borrowers.NumberOfTimes90DaysLate < 96]"
   ]
  },
  {
   "cell_type": "code",
   "execution_count": 50,
   "metadata": {
    "collapsed": false
   },
   "outputs": [
    {
     "data": {
      "text/plain": [
       "17"
      ]
     },
     "execution_count": 50,
     "metadata": {},
     "output_type": "execute_result"
    }
   ],
   "source": [
    "max(borrowers.NumberOfTimes90DaysLate)"
   ]
  },
  {
   "cell_type": "code",
   "execution_count": 51,
   "metadata": {
    "collapsed": false
   },
   "outputs": [
    {
     "data": {
      "text/plain": [
       "103"
      ]
     },
     "execution_count": 51,
     "metadata": {},
     "output_type": "execute_result"
    }
   ],
   "source": [
    "max(borrowers.age)"
   ]
  },
  {
   "cell_type": "code",
   "execution_count": 52,
   "metadata": {
    "collapsed": true
   },
   "outputs": [],
   "source": [
    "borrowers = borrowers[borrowers.age < 100]"
   ]
  },
  {
   "cell_type": "code",
   "execution_count": 53,
   "metadata": {
    "collapsed": false
   },
   "outputs": [
    {
     "data": {
      "text/plain": [
       "99"
      ]
     },
     "execution_count": 53,
     "metadata": {},
     "output_type": "execute_result"
    }
   ],
   "source": [
    "max(borrowers.age)"
   ]
  },
  {
   "cell_type": "code",
   "execution_count": 54,
   "metadata": {
    "collapsed": true
   },
   "outputs": [],
   "source": [
    "borrowers = borrowers[borrowers.RevolvingUtilizationOfUnsecuredLines < 1.1]"
   ]
  },
  {
   "cell_type": "code",
   "execution_count": 55,
   "metadata": {
    "collapsed": false
   },
   "outputs": [
    {
     "data": {
      "text/plain": [
       "54"
      ]
     },
     "execution_count": 55,
     "metadata": {},
     "output_type": "execute_result"
    }
   ],
   "source": [
    "max(borrowers.NumberRealEstateLoansOrLines)\n"
   ]
  },
  {
   "cell_type": "code",
   "execution_count": 56,
   "metadata": {
    "collapsed": true
   },
   "outputs": [],
   "source": [
    "borrowers = borrowers[borrowers.NumberRealEstateLoansOrLines < 54]"
   ]
  },
  {
   "cell_type": "code",
   "execution_count": 57,
   "metadata": {
    "collapsed": false
   },
   "outputs": [
    {
     "data": {
      "text/plain": [
       "32"
      ]
     },
     "execution_count": 57,
     "metadata": {},
     "output_type": "execute_result"
    }
   ],
   "source": [
    "max(borrowers.NumberRealEstateLoansOrLines)"
   ]
  },
  {
   "cell_type": "code",
   "execution_count": 58,
   "metadata": {
    "collapsed": true
   },
   "outputs": [],
   "source": [
    "borrowers = borrowers[borrowers.NumberRealEstateLoansOrLines < 32]"
   ]
  },
  {
   "cell_type": "code",
   "execution_count": 59,
   "metadata": {
    "collapsed": false
   },
   "outputs": [
    {
     "data": {
      "text/plain": [
       "29"
      ]
     },
     "execution_count": 59,
     "metadata": {},
     "output_type": "execute_result"
    }
   ],
   "source": [
    "max(borrowers.NumberRealEstateLoansOrLines)"
   ]
  },
  {
   "cell_type": "code",
   "execution_count": 60,
   "metadata": {
    "collapsed": false
   },
   "outputs": [
    {
     "data": {
      "text/plain": [
       "0"
      ]
     },
     "execution_count": 60,
     "metadata": {},
     "output_type": "execute_result"
    }
   ],
   "source": [
    "min(borrowers.age)"
   ]
  },
  {
   "cell_type": "code",
   "execution_count": 61,
   "metadata": {
    "collapsed": true
   },
   "outputs": [],
   "source": [
    "borrowers = borrowers[borrowers.age > 0]"
   ]
  },
  {
   "cell_type": "code",
   "execution_count": 62,
   "metadata": {
    "collapsed": false
   },
   "outputs": [
    {
     "data": {
      "text/plain": [
       "21"
      ]
     },
     "execution_count": 62,
     "metadata": {},
     "output_type": "execute_result"
    }
   ],
   "source": [
    "min(borrowers.age)"
   ]
  },
  {
   "cell_type": "code",
   "execution_count": 63,
   "metadata": {
    "collapsed": true
   },
   "outputs": [],
   "source": [
    "borrowers = borrowers[borrowers.MonthlyIncome > 100]"
   ]
  },
  {
   "cell_type": "code",
   "execution_count": 64,
   "metadata": {
    "collapsed": false
   },
   "outputs": [
    {
     "data": {
      "text/plain": [
       "101.0"
      ]
     },
     "execution_count": 64,
     "metadata": {},
     "output_type": "execute_result"
    }
   ],
   "source": [
    "min(borrowers.MonthlyIncome)"
   ]
  },
  {
   "cell_type": "code",
   "execution_count": 65,
   "metadata": {
    "collapsed": false
   },
   "outputs": [
    {
     "data": {
      "text/plain": [
       "array([1, 0, 0, ..., 0, 0, 0])"
      ]
     },
     "execution_count": 65,
     "metadata": {},
     "output_type": "execute_result"
    }
   ],
   "source": [
    "#remove correlated variables.\n",
    "\n",
    "my_input = borrowers[['RevolvingUtilizationOfUnsecuredLines', 'age', 'DebtRatio', 'MonthlyIncome', 'NumberOfOpenCreditLinesAndLoans', 'NumberOfTimes90DaysLate', 'NumberRealEstateLoansOrLines','NumberOfDependents']].values\n",
    "\n",
    "default_output = borrowers['SeriousDlqin2yrs'].values\n",
    "\n",
    "default_output"
   ]
  },
  {
   "cell_type": "code",
   "execution_count": 66,
   "metadata": {
    "collapsed": false
   },
   "outputs": [
    {
     "data": {
      "text/plain": [
       "0.93567847808389393"
      ]
     },
     "execution_count": 66,
     "metadata": {},
     "output_type": "execute_result"
    }
   ],
   "source": [
    "a=logm.fit(my_input, default_output)\n",
    "logm.score(my_input, default_output)"
   ]
  },
  {
   "cell_type": "code",
   "execution_count": 69,
   "metadata": {
    "collapsed": false
   },
   "outputs": [
    {
     "data": {
      "text/plain": [
       "[<matplotlib.lines.Line2D at 0x10e66d450>]"
      ]
     },
     "execution_count": 69,
     "metadata": {},
     "output_type": "execute_result"
    },
    {
     "data": {
      "image/png": "[encoded data removed]",
      "text/plain": [
       "<matplotlib.figure.Figure at 0x10e3da0d0>"
      ]
     },
     "metadata": {},
     "output_type": "display_data"
    }
   ],
   "source": [
    "y_pred = a.predict(my_input)\n",
    "fpr, tpr, thresholds = metrics.roc_curve(default_output, y_pred)\n",
    "plt.plot(fpr, tpr)"
   ]
  },
  {
   "cell_type": "code",
   "execution_count": 70,
   "metadata": {
    "collapsed": false
   },
   "outputs": [
    {
     "data": {
      "text/plain": [
       "array([[108436,    518],\n",
       "       [  6988,    753]])"
      ]
     },
     "execution_count": 70,
     "metadata": {},
     "output_type": "execute_result"
    }
   ],
   "source": [
    "metrics.confusion_matrix(default_output, y_pred)"
   ]
  },
  {
   "cell_type": "code",
   "execution_count": 71,
   "metadata": {
    "collapsed": true
   },
   "outputs": [],
   "source": [
    "#output results\n",
    "predictionstest = logm.predict_proba(my_inputtest)[:,1]\n",
    "\n",
    "submission = DataFrame({'Id':borrowerstest.icol(0), 'Probability':predictionstest})\n",
    "submission.to_csv('Entry.csv', index=False)"
   ]
  },
  {
   "cell_type": "code",
   "execution_count": 72,
   "metadata": {
    "collapsed": true
   },
   "outputs": [],
   "source": [
    "borrowers = pd.read_csv(u'./cs-training.csv')\n",
    "borrowers = borrowers.dropna()\n",
    "borrowers = borrowers[borrowers.NumberOfTimes90DaysLate < 96]\n",
    "borrowers = borrowers[borrowers.RevolvingUtilizationOfUnsecuredLines < 1.1]\n",
    "borrowers = borrowers[borrowers.NumberRealEstateLoansOrLines < 32]\n",
    "borrowers = borrowers[borrowers.age > 0]\n",
    "#borrowers = borrowers[borrowers.age < 100]\n",
    "#borrowers = borrowers[borrowers.DebtRatio < 2]"
   ]
  },
  {
   "cell_type": "code",
   "execution_count": 73,
   "metadata": {
    "collapsed": false
   },
   "outputs": [
    {
     "data": {
      "text/plain": [
       "array([1, 0, 0, ..., 0, 0, 0])"
      ]
     },
     "execution_count": 73,
     "metadata": {},
     "output_type": "execute_result"
    }
   ],
   "source": [
    "\n",
    "\n",
    "my_input = borrowers[['RevolvingUtilizationOfUnsecuredLines', 'age','NumberOfTime30-59DaysPastDueNotWorse', 'DebtRatio', 'MonthlyIncome', 'NumberOfOpenCreditLinesAndLoans', 'NumberOfTimes90DaysLate', 'NumberRealEstateLoansOrLines', 'NumberOfTime60-89DaysPastDueNotWorse','NumberOfDependents']].values\n",
    "\n",
    "default_output = borrowers['SeriousDlqin2yrs'].values\n",
    "\n",
    "default_output"
   ]
  },
  {
   "cell_type": "code",
   "execution_count": 74,
   "metadata": {
    "collapsed": false
   },
   "outputs": [
    {
     "data": {
      "text/plain": [
       "0.93722316077897405"
      ]
     },
     "execution_count": 74,
     "metadata": {},
     "output_type": "execute_result"
    }
   ],
   "source": [
    "a=logm.fit(my_input, default_output)\n",
    "logm.score(my_input, default_output)"
   ]
  },
  {
   "cell_type": "code",
   "execution_count": 77,
   "metadata": {
    "collapsed": false
   },
   "outputs": [
    {
     "data": {
      "text/plain": [
       "array([[110374,    782],\n",
       "       [  6687,   1134]])"
      ]
     },
     "execution_count": 77,
     "metadata": {},
     "output_type": "execute_result"
    }
   ],
   "source": [
    "metrics.confusion_matrix(default_output, a.predict(my_input))"
   ]
  },
  {
   "cell_type": "code",
   "execution_count": 78,
   "metadata": {
    "collapsed": false
   },
   "outputs": [
    {
     "ename": "ValueError",
     "evalue": "X has 8 features per sample; expecting 10",
     "output_type": "error",
     "traceback": [
      "\u001b[0;31m---------------------------------------------------------------------------\u001b[0m",
      "\u001b[0;31mValueError\u001b[0m                                Traceback (most recent call last)",
      "\u001b[0;32m<ipython-input-78-6781647eab52>\u001b[0m in \u001b[0;36m<module>\u001b[0;34m()\u001b[0m\n\u001b[1;32m      1\u001b[0m \u001b[0;31m#output results\u001b[0m\u001b[0;34m\u001b[0m\u001b[0;34m\u001b[0m\u001b[0m\n\u001b[0;32m----> 2\u001b[0;31m \u001b[0mpredictionstest\u001b[0m \u001b[0;34m=\u001b[0m \u001b[0mlogm\u001b[0m\u001b[0;34m.\u001b[0m\u001b[0mpredict_proba\u001b[0m\u001b[0;34m(\u001b[0m\u001b[0mmy_inputtest\u001b[0m\u001b[0;34m)\u001b[0m\u001b[0;34m[\u001b[0m\u001b[0;34m:\u001b[0m\u001b[0;34m,\u001b[0m\u001b[0;36m1\u001b[0m\u001b[0;34m]\u001b[0m\u001b[0;34m\u001b[0m\u001b[0m\n\u001b[0m\u001b[1;32m      3\u001b[0m \u001b[0;34m\u001b[0m\u001b[0m\n\u001b[1;32m      4\u001b[0m \u001b[0msubmission\u001b[0m \u001b[0;34m=\u001b[0m \u001b[0mDataFrame\u001b[0m\u001b[0;34m(\u001b[0m\u001b[0;34m{\u001b[0m\u001b[0;34m'Id'\u001b[0m\u001b[0;34m:\u001b[0m\u001b[0mborrowerstest\u001b[0m\u001b[0;34m.\u001b[0m\u001b[0micol\u001b[0m\u001b[0;34m(\u001b[0m\u001b[0;36m0\u001b[0m\u001b[0;34m)\u001b[0m\u001b[0;34m,\u001b[0m \u001b[0;34m'Probability'\u001b[0m\u001b[0;34m:\u001b[0m\u001b[0mpredictionstest\u001b[0m\u001b[0;34m}\u001b[0m\u001b[0;34m)\u001b[0m\u001b[0;34m\u001b[0m\u001b[0m\n\u001b[1;32m      5\u001b[0m \u001b[0msubmission\u001b[0m\u001b[0;34m.\u001b[0m\u001b[0mto_csv\u001b[0m\u001b[0;34m(\u001b[0m\u001b[0;34m'Entry.csv'\u001b[0m\u001b[0;34m,\u001b[0m \u001b[0mindex\u001b[0m\u001b[0;34m=\u001b[0m\u001b[0mFalse\u001b[0m\u001b[0;34m)\u001b[0m\u001b[0;34m\u001b[0m\u001b[0m\n",
      "\u001b[0;32m/Users/cdechenu/anaconda/lib/python2.7/site-packages/sklearn/linear_model/logistic.pyc\u001b[0m in \u001b[0;36mpredict_proba\u001b[0;34m(self, X)\u001b[0m\n\u001b[1;32m    126\u001b[0m             \u001b[0mwhere\u001b[0m \u001b[0mclasses\u001b[0m \u001b[0mare\u001b[0m \u001b[0mordered\u001b[0m \u001b[0;32mas\u001b[0m \u001b[0mthey\u001b[0m \u001b[0mare\u001b[0m \u001b[0;32min\u001b[0m \u001b[0;34m`\u001b[0m\u001b[0;34m`\u001b[0m\u001b[0mself\u001b[0m\u001b[0;34m.\u001b[0m\u001b[0mclasses_\u001b[0m\u001b[0;34m`\u001b[0m\u001b[0;34m`\u001b[0m\u001b[0;34m.\u001b[0m\u001b[0;34m\u001b[0m\u001b[0m\n\u001b[1;32m    127\u001b[0m         \"\"\"\n\u001b[0;32m--> 128\u001b[0;31m         \u001b[0;32mreturn\u001b[0m \u001b[0mself\u001b[0m\u001b[0;34m.\u001b[0m\u001b[0m_predict_proba_lr\u001b[0m\u001b[0;34m(\u001b[0m\u001b[0mX\u001b[0m\u001b[0;34m)\u001b[0m\u001b[0;34m\u001b[0m\u001b[0m\n\u001b[0m\u001b[1;32m    129\u001b[0m \u001b[0;34m\u001b[0m\u001b[0m\n\u001b[1;32m    130\u001b[0m     \u001b[0;32mdef\u001b[0m \u001b[0mpredict_log_proba\u001b[0m\u001b[0;34m(\u001b[0m\u001b[0mself\u001b[0m\u001b[0;34m,\u001b[0m \u001b[0mX\u001b[0m\u001b[0;34m)\u001b[0m\u001b[0;34m:\u001b[0m\u001b[0;34m\u001b[0m\u001b[0m\n",
      "\u001b[0;32m/Users/cdechenu/anaconda/lib/python2.7/site-packages/sklearn/linear_model/base.pyc\u001b[0m in \u001b[0;36m_predict_proba_lr\u001b[0;34m(self, X)\u001b[0m\n\u001b[1;32m    227\u001b[0m         \u001b[0mmulticlass\u001b[0m \u001b[0;32mis\u001b[0m \u001b[0mhandled\u001b[0m \u001b[0mby\u001b[0m \u001b[0mnormalizing\u001b[0m \u001b[0mthat\u001b[0m \u001b[0mover\u001b[0m \u001b[0mall\u001b[0m \u001b[0mclasses\u001b[0m\u001b[0;34m.\u001b[0m\u001b[0;34m\u001b[0m\u001b[0m\n\u001b[1;32m    228\u001b[0m         \"\"\"\n\u001b[0;32m--> 229\u001b[0;31m         \u001b[0mprob\u001b[0m \u001b[0;34m=\u001b[0m \u001b[0mself\u001b[0m\u001b[0;34m.\u001b[0m\u001b[0mdecision_function\u001b[0m\u001b[0;34m(\u001b[0m\u001b[0mX\u001b[0m\u001b[0;34m)\u001b[0m\u001b[0;34m\u001b[0m\u001b[0m\n\u001b[0m\u001b[1;32m    230\u001b[0m         \u001b[0mprob\u001b[0m \u001b[0;34m*=\u001b[0m \u001b[0;34m-\u001b[0m\u001b[0;36m1\u001b[0m\u001b[0;34m\u001b[0m\u001b[0m\n\u001b[1;32m    231\u001b[0m         \u001b[0mnp\u001b[0m\u001b[0;34m.\u001b[0m\u001b[0mexp\u001b[0m\u001b[0;34m(\u001b[0m\u001b[0mprob\u001b[0m\u001b[0;34m,\u001b[0m \u001b[0mprob\u001b[0m\u001b[0;34m)\u001b[0m\u001b[0;34m\u001b[0m\u001b[0m\n",
      "\u001b[0;32m/Users/cdechenu/anaconda/lib/python2.7/site-packages/sklearn/linear_model/base.pyc\u001b[0m in \u001b[0;36mdecision_function\u001b[0;34m(self, X)\u001b[0m\n\u001b[1;32m    194\u001b[0m         \u001b[0;32mif\u001b[0m \u001b[0mX\u001b[0m\u001b[0;34m.\u001b[0m\u001b[0mshape\u001b[0m\u001b[0;34m[\u001b[0m\u001b[0;36m1\u001b[0m\u001b[0;34m]\u001b[0m \u001b[0;34m!=\u001b[0m \u001b[0mn_features\u001b[0m\u001b[0;34m:\u001b[0m\u001b[0;34m\u001b[0m\u001b[0m\n\u001b[1;32m    195\u001b[0m             raise ValueError(\"X has %d features per sample; expecting %d\"\n\u001b[0;32m--> 196\u001b[0;31m                              % (X.shape[1], n_features))\n\u001b[0m\u001b[1;32m    197\u001b[0m \u001b[0;34m\u001b[0m\u001b[0m\n\u001b[1;32m    198\u001b[0m         scores = safe_sparse_dot(X, self.coef_.T,\n",
      "\u001b[0;31mValueError\u001b[0m: X has 8 features per sample; expecting 10"
     ]
    }
   ],
   "source": [
    "#output results\n",
    "predictionstest = logm.predict_proba(my_inputtest)[:,1]\n",
    "\n",
    "submission = DataFrame({'Id':borrowerstest.icol(0), 'Probability':predictionstest})\n",
    "submission.to_csv('Entry.csv', index=False)"
   ]
  },
  {
   "cell_type": "code",
   "execution_count": 79,
   "metadata": {
    "collapsed": false
   },
   "outputs": [
    {
     "name": "stdout",
     "output_type": "stream",
     "text": [
      "Number of mislabelled points: 8491\n",
      "Out of: 120269\n"
     ]
    }
   ],
   "source": [
    "#restore two variables and also pre cleaned data for Naive Bayes\n",
    "borrowers = pd.read_csv(u'./cs-training.csv')\n",
    "borrowers = borrowers.dropna()\n",
    "my_input = borrowers[['RevolvingUtilizationOfUnsecuredLines', 'age','NumberOfTime30-59DaysPastDueNotWorse', 'DebtRatio', 'MonthlyIncome', 'NumberOfOpenCreditLinesAndLoans', 'NumberOfTimes90DaysLate', 'NumberRealEstateLoansOrLines', 'NumberOfTime60-89DaysPastDueNotWorse','NumberOfDependents']].values\n",
    "\n",
    "default_output = borrowers['SeriousDlqin2yrs'].values\n",
    "\n",
    "default_output\n",
    "\n",
    "y_pred = gnb.fit(my_input, default_output).predict(my_input)\n",
    "\n",
    "# Let's see how well we did\n",
    "print 'Number of mislabelled points: {0}'.format((default_output != y_pred).sum())\n",
    "print 'Out of: {0}'.format(((default_output == y_pred)+(default_output != y_pred)).sum())"
   ]
  },
  {
   "cell_type": "code",
   "execution_count": 80,
   "metadata": {
    "collapsed": false
   },
   "outputs": [
    {
     "data": {
      "text/plain": [
       "0.92939992849362674"
      ]
     },
     "execution_count": 80,
     "metadata": {},
     "output_type": "execute_result"
    }
   ],
   "source": [
    "gnb.score(my_input, default_output)"
   ]
  },
  {
   "cell_type": "code",
   "execution_count": 81,
   "metadata": {
    "collapsed": false
   },
   "outputs": [
    {
     "data": {
      "text/plain": [
       "array([[111544,    368],\n",
       "       [  8123,    234]])"
      ]
     },
     "execution_count": 81,
     "metadata": {},
     "output_type": "execute_result"
    }
   ],
   "source": [
    "metrics.confusion_matrix(default_output, y_pred)"
   ]
  },
  {
   "cell_type": "code",
   "execution_count": 82,
   "metadata": {
    "collapsed": false
   },
   "outputs": [],
   "source": [
    "my_inputtest = borrowerstest[['RevolvingUtilizationOfUnsecuredLines', 'age','NumberOfTime30-59DaysPastDueNotWorse', 'DebtRatio', 'MonthlyIncome', 'NumberOfOpenCreditLinesAndLoans', 'NumberOfTimes90DaysLate', 'NumberRealEstateLoansOrLines', 'NumberOfTime60-89DaysPastDueNotWorse','NumberOfDependents']].values\n",
    "predictionstest= gnb.predict_proba(my_inputtest)[:,1]\n",
    "submission = DataFrame({'Id':borrowerstest.icol(0), 'Probability':predictionstest})\n",
    "submission.to_csv('Entry.csv', index=False)"
   ]
  },
  {
   "cell_type": "code",
   "execution_count": 83,
   "metadata": {
    "collapsed": false
   },
   "outputs": [
    {
     "data": {
      "text/plain": [
       "8357"
      ]
     },
     "execution_count": 83,
     "metadata": {},
     "output_type": "execute_result"
    }
   ],
   "source": [
    "#What if we just assumed noone defaults!\n",
    "(default_output == 1).sum()"
   ]
  },
  {
   "cell_type": "code",
   "execution_count": 84,
   "metadata": {
    "collapsed": false
   },
   "outputs": [
    {
     "data": {
      "text/plain": [
       "0.930514097564626"
      ]
     },
     "execution_count": 84,
     "metadata": {},
     "output_type": "execute_result"
    }
   ],
   "source": [
    "(120269-8357)/120269.0"
   ]
  },
  {
   "cell_type": "code",
   "execution_count": 85,
   "metadata": {
    "collapsed": false
   },
   "outputs": [
    {
     "name": "stdout",
     "output_type": "stream",
     "text": [
      "Number of mislabelled points: 11078\n",
      "Out of: 118977\n"
     ]
    }
   ],
   "source": [
    "#Naive Bayes with cleaned data\n",
    "borrowers = pd.read_csv(u'./cs-training.csv')\n",
    "borrowers = borrowers.dropna()\n",
    "borrowers = borrowers[borrowers.NumberOfTimes90DaysLate < 96]\n",
    "borrowers = borrowers[borrowers.RevolvingUtilizationOfUnsecuredLines < 1.1]\n",
    "borrowers = borrowers[borrowers.NumberRealEstateLoansOrLines < 32]\n",
    "borrowers = borrowers[borrowers.age > 0]\n",
    "#borrowers = borrowers[borrowers.age < 100]\n",
    "#borrowers = borrowers[borrowers.DebtRatio < 2]\n",
    "\n",
    "my_input = borrowers[['RevolvingUtilizationOfUnsecuredLines', 'age','NumberOfTime30-59DaysPastDueNotWorse', 'DebtRatio', 'MonthlyIncome', 'NumberOfOpenCreditLinesAndLoans', 'NumberOfTimes90DaysLate', 'NumberRealEstateLoansOrLines', 'NumberOfTime60-89DaysPastDueNotWorse','NumberOfDependents']].values\n",
    "\n",
    "default_output = borrowers['SeriousDlqin2yrs'].values\n",
    "\n",
    "default_output\n",
    "y_pred = gnb.fit(my_input, default_output).predict(my_input)\n",
    "\n",
    "# Let's see how well we did\n",
    "print 'Number of mislabelled points: {0}'.format((default_output != y_pred).sum())\n",
    "print 'Out of: {0}'.format(((default_output == y_pred)+(default_output != y_pred)).sum())"
   ]
  },
  {
   "cell_type": "code",
   "execution_count": 86,
   "metadata": {
    "collapsed": false
   },
   "outputs": [
    {
     "data": {
      "text/plain": [
       "0.9068895668910798"
      ]
     },
     "execution_count": 86,
     "metadata": {},
     "output_type": "execute_result"
    }
   ],
   "source": [
    "gnb.score(my_input, default_output)"
   ]
  },
  {
   "cell_type": "code",
   "execution_count": 88,
   "metadata": {
    "collapsed": false
   },
   "outputs": [
    {
     "data": {
      "text/plain": [
       "array([[104272,   6884],\n",
       "       [  4194,   3627]])"
      ]
     },
     "execution_count": 88,
     "metadata": {},
     "output_type": "execute_result"
    }
   ],
   "source": [
    "metrics.confusion_matrix(default_output, y_pred)"
   ]
  },
  {
   "cell_type": "code",
   "execution_count": 89,
   "metadata": {
    "collapsed": false
   },
   "outputs": [
    {
     "data": {
      "text/plain": [
       "[<matplotlib.lines.Line2D at 0x1084da710>]"
      ]
     },
     "execution_count": 89,
     "metadata": {},
     "output_type": "execute_result"
    },
    {
     "data": {
      "image/png": "[encoded data removed]",
      "text/plain": [
       "<matplotlib.figure.Figure at 0x10e45c090>"
      ]
     },
     "metadata": {},
     "output_type": "display_data"
    }
   ],
   "source": [
    "#y_pred = a.predict(my_input)\n",
    "fpr, tpr, thresholds = metrics.roc_curve(default_output, y_pred)\n",
    "plt.plot(fpr, tpr)"
   ]
  },
  {
   "cell_type": "code",
   "execution_count": 91,
   "metadata": {
    "collapsed": false
   },
   "outputs": [],
   "source": [
    "my_inputtest = borrowerstest[['RevolvingUtilizationOfUnsecuredLines', 'age','NumberOfTime30-59DaysPastDueNotWorse', 'DebtRatio', 'MonthlyIncome', 'NumberOfOpenCreditLinesAndLoans', 'NumberOfTimes90DaysLate', 'NumberRealEstateLoansOrLines', 'NumberOfTime60-89DaysPastDueNotWorse','NumberOfDependents']].values\n",
    "predictionstest= gnb.predict_proba(my_inputtest)[:,1]\n",
    "predictionstest\n",
    "submission = DataFrame({'Id':borrowerstest.icol(0), 'Probability':predictionstest})\n",
    "#submission.to_csv('Entry.csv', index=False)"
   ]
  },
  {
   "cell_type": "code",
   "execution_count": 92,
   "metadata": {
    "collapsed": false
   },
   "outputs": [
    {
     "data": {
      "text/plain": [
       "0.93676390346274918"
      ]
     },
     "execution_count": 92,
     "metadata": {},
     "output_type": "execute_result"
    }
   ],
   "source": [
    "# now try to create another variable to deal with the 96s and 98s\n",
    "borrowers = pd.read_csv(u'./cs-training.csv')\n",
    "borrowers = borrowers.dropna()\n",
    "#borrowers = borrowers[borrowers.NumberOfTimes90DaysLate < 96]\n",
    "borrowers = borrowers[borrowers.RevolvingUtilizationOfUnsecuredLines < 1.1]\n",
    "borrowers = borrowers[borrowers.NumberRealEstateLoansOrLines < 32]\n",
    "borrowers = borrowers[borrowers.age > 0]\n",
    "#borrowers = borrowers[borrowers.age < 100]\n",
    "#borrowers = borrowers[borrowers.DebtRatio < 2]\n",
    "borrowers['LateOthers90'] = 5#just initialising it\n",
    "borrowers['LateRefusedToSay90'] = 5\n",
    "borrowers.ix[borrowers.NumberOfTimes90DaysLate == 96,'LateOthers90'] = 1; borrowers\n",
    "borrowers.ix[borrowers.NumberOfTimes90DaysLate != 96,'LateOthers90'] = 0; borrowers\n",
    "borrowers.ix[borrowers.NumberOfTimes90DaysLate == 98,'LateRefusedToSay90'] = 1; borrowers\n",
    "borrowers.ix[borrowers.NumberOfTimes90DaysLate != 98,'LateRefusedToSay90'] = 0; borrowers\n",
    "borrowers.ix[borrowers.NumberOfTimes90DaysLate == 98,'NumberOfTimes90DaysLate'] = 0; borrowers\n",
    "borrowers.ix[borrowers.NumberOfTimes90DaysLate == 96,'NumberOfTimes90DaysLate'] = 0; borrowers\n",
    "###\n",
    "#need to rename the 60 30 variable and do as above because they have '-' symbols in them \n",
    "names = borrowers.columns.tolist()\n",
    "names[names.index('NumberOfTime60-89DaysPastDueNotWorse')] = 'Num6089DaysPastDueNotWorse'\n",
    "names[names.index('NumberOfTime30-59DaysPastDueNotWorse')] = 'Num3059DaysPastDueNotWorse'\n",
    "borrowers.columns = names\n",
    "\n",
    "### Now create more dummy variables.\n",
    "borrowers['LateOthers60'] = 5\n",
    "borrowers['LateRefusedToSay60'] = 5\n",
    "borrowers.ix[borrowers.Num6089DaysPastDueNotWorse == 96,'LateOthers60'] = 1; borrowers\n",
    "borrowers.ix[borrowers.Num6089DaysPastDueNotWorse != 96,'LateOthers60'] = 0; borrowers\n",
    "borrowers.ix[borrowers.Num6089DaysPastDueNotWorse == 98,'LateRefusedToSay60'] = 1; borrowers\n",
    "borrowers.ix[borrowers.Num6089DaysPastDueNotWorse != 98,'LateRefusedToSay60'] = 0; borrowers\n",
    "borrowers.ix[borrowers.Num6089DaysPastDueNotWorse == 98,'Num6089DaysPastDueNotWorse'] = 0; borrowers\n",
    "borrowers.ix[borrowers.Num6089DaysPastDueNotWorse == 96,'Num6089DaysPastDueNotWorse'] = 0; borrowers\n",
    "\n",
    "borrowers['LateOthers30'] = 5\n",
    "borrowers['LateRefusedToSay30'] = 5\n",
    "borrowers.ix[borrowers.Num3059DaysPastDueNotWorse == 96,'LateOthers30'] = 1; borrowers\n",
    "borrowers.ix[borrowers.Num3059DaysPastDueNotWorse != 96,'LateOthers30'] = 0; borrowers\n",
    "borrowers.ix[borrowers.Num3059DaysPastDueNotWorse == 98,'LateRefusedToSay30'] = 1; borrowers\n",
    "borrowers.ix[borrowers.Num3059DaysPastDueNotWorse != 98,'LateRefusedToSay30'] = 0; borrowers\n",
    "borrowers.ix[borrowers.Num3059DaysPastDueNotWorse == 98,'Num3059DaysPastDueNotWorse'] = 0; borrowers\n",
    "borrowers.ix[borrowers.Num3059DaysPastDueNotWorse == 96,'Num3059DaysPastDueNotWorse'] = 0; borrowers\n",
    "\n",
    "#borrowers.ix[borrowers.NumberOfTimes90DaysLate == 98,'NumberOfTime30-59DaysPastDueNotWorse'] = 0; borrowers\n",
    "#borrowers.ix[borrowers.NumberOfTimes90DaysLate == 96,'NumberOfTime30-59DaysPastDueNotWorse'] = 0; borrowers\n",
    "#borrowers.ix[borrowers.NumberOfTimes90DaysLate == 98,'NumberOfTime60-89DaysPastDueNotWorse'] = 0; borrowers\n",
    "#borrowers.ix[borrowers.NumberOfTimes90DaysLate == 96,'NumberOfTime60-89DaysPastDueNotWorse'] = 0; borrowers\n",
    "\n",
    "my_input = borrowers[['RevolvingUtilizationOfUnsecuredLines', 'age','Num3059DaysPastDueNotWorse', 'DebtRatio', 'MonthlyIncome', 'NumberOfOpenCreditLinesAndLoans', 'NumberOfTimes90DaysLate', 'NumberRealEstateLoansOrLines', 'Num6089DaysPastDueNotWorse','NumberOfDependents', 'LateOthers90', 'LateRefusedToSay90','LateOthers60', 'LateRefusedToSay60','LateOthers30', 'LateRefusedToSay30' ]].values\n",
    "\n",
    "default_output = borrowers['SeriousDlqin2yrs'].values\n",
    "\n",
    "a=logm.fit(my_input, default_output)\n",
    "logm.score(my_input, default_output)"
   ]
  },
  {
   "cell_type": "code",
   "execution_count": 93,
   "metadata": {
    "collapsed": false
   },
   "outputs": [
    {
     "data": {
      "text/plain": [
       "[<matplotlib.lines.Line2D at 0x10bc8ad90>]"
      ]
     },
     "execution_count": 93,
     "metadata": {},
     "output_type": "execute_result"
    },
    {
     "data": {
      "image/png": "[encoded data removed]",
      "text/plain": [
       "<matplotlib.figure.Figure at 0x109ab7690>"
      ]
     },
     "metadata": {},
     "output_type": "display_data"
    }
   ],
   "source": [
    "y_pred = a.predict(my_input)\n",
    "fpr, tpr, thresholds = metrics.roc_curve(default_output, y_pred)\n",
    "plt.plot(fpr, tpr)"
   ]
  },
  {
   "cell_type": "code",
   "execution_count": 94,
   "metadata": {
    "collapsed": false
   },
   "outputs": [
    {
     "data": {
      "text/plain": [
       "array([[110390,    830],\n",
       "       [  6703,   1202]])"
      ]
     },
     "execution_count": 94,
     "metadata": {},
     "output_type": "execute_result"
    }
   ],
   "source": [
    "metrics.confusion_matrix(default_output, y_pred)"
   ]
  },
  {
   "cell_type": "code",
   "execution_count": 95,
   "metadata": {
    "collapsed": false
   },
   "outputs": [
    {
     "data": {
      "text/plain": [
       "17"
      ]
     },
     "execution_count": 95,
     "metadata": {},
     "output_type": "execute_result"
    }
   ],
   "source": [
    "max(borrowers.NumberOfTimes90DaysLate)"
   ]
  },
  {
   "cell_type": "code",
   "execution_count": 96,
   "metadata": {
    "collapsed": false
   },
   "outputs": [
    {
     "data": {
      "text/plain": [
       "array([[110390,    830],\n",
       "       [  6703,   1202]])"
      ]
     },
     "execution_count": 96,
     "metadata": {},
     "output_type": "execute_result"
    }
   ],
   "source": [
    "metrics.confusion_matrix(default_output, a.predict(my_input))"
   ]
  },
  {
   "cell_type": "code",
   "execution_count": 97,
   "metadata": {
    "collapsed": true
   },
   "outputs": [],
   "source": [
    "#output results\n",
    "borrowerstest = pd.read_csv(u'./cs-test.csv')\n",
    "borrowerstest = borrowerstest.fillna(0)\n",
    "\n",
    "borrowerstest['LateOthers90'] = 5#just initialising it\n",
    "borrowerstest['LateRefusedToSay90'] = 5\n",
    "borrowerstest.ix[borrowerstest.NumberOfTimes90DaysLate == 96,'LateOthers90'] = 1; borrowerstest\n",
    "borrowerstest.ix[borrowerstest.NumberOfTimes90DaysLate != 96,'LateOthers90'] = 0; borrowerstest\n",
    "borrowerstest.ix[borrowerstest.NumberOfTimes90DaysLate == 98,'LateRefusedToSay90'] = 1; borrowerstest\n",
    "borrowerstest.ix[borrowerstest.NumberOfTimes90DaysLate != 98,'LateRefusedToSay90'] = 0; borrowerstest\n",
    "borrowerstest.ix[borrowerstest.NumberOfTimes90DaysLate == 98,'NumberOfTimes90DaysLate'] = 0; borrowerstest\n",
    "borrowerstest.ix[borrowerstest.NumberOfTimes90DaysLate == 96,'NumberOfTimes90DaysLate'] = 0; borrowerstest\n",
    "###\n",
    "#need to rename the 60 30 variable and do as above because they have '-' symbols in them \n",
    "names = borrowerstest.columns.tolist()\n",
    "names[names.index('NumberOfTime60-89DaysPastDueNotWorse')] = 'Num6089DaysPastDueNotWorse'\n",
    "names[names.index('NumberOfTime30-59DaysPastDueNotWorse')] = 'Num3059DaysPastDueNotWorse'\n",
    "borrowerstest.columns = names\n",
    "\n",
    "### Now create more dummy variables.\n",
    "borrowerstest['LateOthers60'] = 5\n",
    "borrowerstest['LateRefusedToSay60'] = 5\n",
    "borrowerstest.ix[borrowerstest.Num6089DaysPastDueNotWorse == 96,'LateOthers60'] = 1; borrowerstest\n",
    "borrowerstest.ix[borrowerstest.Num6089DaysPastDueNotWorse != 96,'LateOthers60'] = 0; borrowerstest\n",
    "borrowerstest.ix[borrowerstest.Num6089DaysPastDueNotWorse == 98,'LateRefusedToSay60'] = 1; borrowerstest\n",
    "borrowerstest.ix[borrowerstest.Num6089DaysPastDueNotWorse != 98,'LateRefusedToSay60'] = 0; borrowerstest\n",
    "borrowerstest.ix[borrowerstest.Num6089DaysPastDueNotWorse == 98,'Num6089DaysPastDueNotWorse'] = 0; borrowerstest\n",
    "borrowerstest.ix[borrowerstest.Num6089DaysPastDueNotWorse == 96,'Num6089DaysPastDueNotWorse'] = 0; borrowerstest\n",
    "\n",
    "borrowerstest['LateOthers30'] = 5\n",
    "borrowerstest['LateRefusedToSay30'] = 5\n",
    "borrowerstest.ix[borrowerstest.Num3059DaysPastDueNotWorse == 96,'LateOthers30'] = 1; borrowerstest\n",
    "borrowerstest.ix[borrowerstest.Num3059DaysPastDueNotWorse != 96,'LateOthers30'] = 0; borrowerstest\n",
    "borrowerstest.ix[borrowerstest.Num3059DaysPastDueNotWorse == 98,'LateRefusedToSay30'] = 1; borrowerstest\n",
    "borrowerstest.ix[borrowerstest.Num3059DaysPastDueNotWorse != 98,'LateRefusedToSay30'] = 0; borrowerstest\n",
    "borrowerstest.ix[borrowerstest.Num3059DaysPastDueNotWorse == 98,'Num3059DaysPastDueNotWorse'] = 0; borrowerstest\n",
    "borrowerstest.ix[borrowerstest.Num3059DaysPastDueNotWorse == 96,'Num3059DaysPastDueNotWorse'] = 0; borrowerstest\n",
    "\n",
    "\n",
    "\n",
    "\n",
    "my_inputtest = borrowerstest[['RevolvingUtilizationOfUnsecuredLines', 'age','Num3059DaysPastDueNotWorse', 'DebtRatio', 'MonthlyIncome', 'NumberOfOpenCreditLinesAndLoans', 'NumberOfTimes90DaysLate', 'NumberRealEstateLoansOrLines', 'Num6089DaysPastDueNotWorse','NumberOfDependents', 'LateOthers90', 'LateRefusedToSay90','LateOthers60', 'LateRefusedToSay60','LateOthers30', 'LateRefusedToSay30' ]].values\n",
    "predictionstest = logm.predict_proba(my_inputtest)[:,1]\n",
    "\n",
    "submission = DataFrame({'Id':borrowerstest.icol(0), 'Probability':predictionstest})\n",
    "submission.to_csv('Entry.csv', index=False)"
   ]
  },
  {
   "cell_type": "code",
   "execution_count": 98,
   "metadata": {
    "collapsed": false
   },
   "outputs": [
    {
     "data": {
      "text/plain": [
       "array([13])"
      ]
     },
     "execution_count": 98,
     "metadata": {},
     "output_type": "execute_result"
    }
   ],
   "source": [
    "max(borrowers[['Num3059DaysPastDueNotWorse']].values)\n",
    "#borrowers = borrowers[borrowers[['Num3059DaysPastDueNotWorse']].values < 96]"
   ]
  },
  {
   "cell_type": "code",
   "execution_count": 99,
   "metadata": {
    "collapsed": false
   },
   "outputs": [
    {
     "data": {
      "text/plain": [
       "array([17])"
      ]
     },
     "execution_count": 99,
     "metadata": {},
     "output_type": "execute_result"
    }
   ],
   "source": [
    "max(borrowers[['NumberOfTimes90DaysLate']].values)\n"
   ]
  },
  {
   "cell_type": "code",
   "execution_count": 100,
   "metadata": {
    "collapsed": false
   },
   "outputs": [
    {
     "data": {
      "text/plain": [
       "array([11])"
      ]
     },
     "execution_count": 100,
     "metadata": {},
     "output_type": "execute_result"
    }
   ],
   "source": [
    "max(borrowers[['Num6089DaysPastDueNotWorse']].values)\n"
   ]
  },
  {
   "cell_type": "code",
   "execution_count": 101,
   "metadata": {
    "collapsed": false
   },
   "outputs": [
    {
     "data": {
      "text/plain": [
       "array([13])"
      ]
     },
     "execution_count": 101,
     "metadata": {},
     "output_type": "execute_result"
    }
   ],
   "source": [
    "max(borrowers[['Num3059DaysPastDueNotWorse']].values)"
   ]
  },
  {
   "cell_type": "code",
   "execution_count": 102,
   "metadata": {
    "collapsed": false
   },
   "outputs": [
    {
     "data": {
      "text/plain": [
       "array([13])"
      ]
     },
     "execution_count": 102,
     "metadata": {},
     "output_type": "execute_result"
    }
   ],
   "source": [
    "#borrowers = borrowers[borrowers[['NumberOfTime30-59DaysPastDueNotWorse']].values < 13]\n",
    "max(borrowers[['Num3059DaysPastDueNotWorse']].values)"
   ]
  },
  {
   "cell_type": "code",
   "execution_count": null,
   "metadata": {
    "collapsed": true
   },
   "outputs": [],
   "source": []
  },
  {
   "cell_type": "code",
   "execution_count": 103,
   "metadata": {
    "collapsed": false,
    "scrolled": false
   },
   "outputs": [
    {
     "data": {
      "text/plain": [
       "(1713, 18)"
      ]
     },
     "execution_count": 103,
     "metadata": {},
     "output_type": "execute_result"
    }
   ],
   "source": [
    "borrowers.loc[borrowers['SeriousDlqin2yrs'] == 0].loc[borrowers['DebtRatio'] > 50].shape\n",
    "#borrowers.loc[borrowers['DebtRatio'] > 1]"
   ]
  },
  {
   "cell_type": "code",
   "execution_count": 104,
   "metadata": {
    "collapsed": false
   },
   "outputs": [
    {
     "data": {
      "text/plain": [
       "['Unnamed: 0',\n",
       " 'SeriousDlqin2yrs',\n",
       " 'RevolvingUtilizationOfUnsecuredLines',\n",
       " 'age',\n",
       " 'Num3059DaysPastDueNotWorse',\n",
       " 'DebtRatio',\n",
       " 'MonthlyIncome',\n",
       " 'NumberOfOpenCreditLinesAndLoans',\n",
       " 'NumberOfTimes90DaysLate',\n",
       " 'NumberRealEstateLoansOrLines',\n",
       " 'Num6089DaysPastDueNotWorse',\n",
       " 'NumberOfDependents',\n",
       " 'LateOthers90',\n",
       " 'LateRefusedToSay90']"
      ]
     },
     "execution_count": 104,
     "metadata": {},
     "output_type": "execute_result"
    }
   ],
   "source": [
    "names"
   ]
  },
  {
   "cell_type": "code",
   "execution_count": null,
   "metadata": {
    "collapsed": false
   },
   "outputs": [],
   "source": []
  },
  {
   "cell_type": "code",
   "execution_count": 105,
   "metadata": {
    "collapsed": false
   },
   "outputs": [
    {
     "data": {
      "text/plain": [
       "0.93660440713536197"
      ]
     },
     "execution_count": 105,
     "metadata": {},
     "output_type": "execute_result"
    }
   ],
   "source": [
    "# now try to create another variable to deal with the 96s and 98s\n",
    "borrowers = pd.read_csv(u'./cs-training.csv')\n",
    "borrowers = borrowers.dropna()\n",
    "#borrowers = borrowers[borrowers.NumberOfTimes90DaysLate < 96]\n",
    "borrowers = borrowers[borrowers.RevolvingUtilizationOfUnsecuredLines < 1.1]\n",
    "borrowers = borrowers[borrowers.NumberRealEstateLoansOrLines < 32]\n",
    "borrowers = borrowers[borrowers.age > 0]\n",
    "#borrowers = borrowers[borrowers.age < 100]\n",
    "#borrowers = borrowers[borrowers.DebtRatio < 2]\n",
    "borrowers['LateOthers90'] = 5#just initialising it\n",
    "#borrowers['LateRefusedToSay90'] = 5\n",
    "borrowers.ix[borrowers.NumberOfTimes90DaysLate == 96,'LateOthers90'] = 1; borrowers\n",
    "borrowers.ix[borrowers.NumberOfTimes90DaysLate != 96,'LateOthers90'] = 0; borrowers\n",
    "borrowers.ix[borrowers.NumberOfTimes90DaysLate == 98,'LateOthers90'] = 1; borrowers\n",
    "borrowers.ix[borrowers.NumberOfTimes90DaysLate != 98,'LateOthers90'] = 0; borrowers\n",
    "borrowers.ix[borrowers.NumberOfTimes90DaysLate == 98,'NumberOfTimes90DaysLate'] = 0; borrowers\n",
    "borrowers.ix[borrowers.NumberOfTimes90DaysLate == 96,'NumberOfTimes90DaysLate'] = 0; borrowers\n",
    "###\n",
    "#need to rename the 60 30 variable and do as above because they have '-' symbols in them \n",
    "names = borrowers.columns.tolist()\n",
    "names[names.index('NumberOfTime60-89DaysPastDueNotWorse')] = 'Num6089DaysPastDueNotWorse'\n",
    "names[names.index('NumberOfTime30-59DaysPastDueNotWorse')] = 'Num3059DaysPastDueNotWorse'\n",
    "borrowers.columns = names\n",
    "\n",
    "### Now create more dummy variables.\n",
    "borrowers['LateOthers60'] = 5\n",
    "#borrowers['LateRefusedToSay60'] = 5\n",
    "borrowers.ix[borrowers.Num6089DaysPastDueNotWorse == 96,'LateOthers60'] = 1; borrowers\n",
    "borrowers.ix[borrowers.Num6089DaysPastDueNotWorse != 96,'LateOthers60'] = 0; borrowers\n",
    "borrowers.ix[borrowers.Num6089DaysPastDueNotWorse == 98,'LateOthers60'] = 1; borrowers\n",
    "borrowers.ix[borrowers.Num6089DaysPastDueNotWorse != 98,'LateOthers60'] = 0; borrowers\n",
    "borrowers.ix[borrowers.Num6089DaysPastDueNotWorse == 98,'Num6089DaysPastDueNotWorse'] = 0; borrowers\n",
    "borrowers.ix[borrowers.Num6089DaysPastDueNotWorse == 96,'Num6089DaysPastDueNotWorse'] = 0; borrowers\n",
    "\n",
    "borrowers['LateOthers30'] = 5\n",
    "#borrowers['LateRefusedToSay30'] = 5\n",
    "borrowers.ix[borrowers.Num3059DaysPastDueNotWorse == 96,'LateOthers30'] = 1; borrowers\n",
    "borrowers.ix[borrowers.Num3059DaysPastDueNotWorse != 96,'LateOthers30'] = 0; borrowers\n",
    "borrowers.ix[borrowers.Num3059DaysPastDueNotWorse == 98,'LateOthers30'] = 1; borrowers\n",
    "borrowers.ix[borrowers.Num3059DaysPastDueNotWorse != 98,'LateOthers30'] = 0; borrowers\n",
    "borrowers.ix[borrowers.Num3059DaysPastDueNotWorse == 98,'Num3059DaysPastDueNotWorse'] = 0; borrowers\n",
    "borrowers.ix[borrowers.Num3059DaysPastDueNotWorse == 96,'Num3059DaysPastDueNotWorse'] = 0; borrowers\n",
    "\n",
    "#borrowers.ix[borrowers.NumberOfTimes90DaysLate == 98,'NumberOfTime30-59DaysPastDueNotWorse'] = 0; borrowers\n",
    "#borrowers.ix[borrowers.NumberOfTimes90DaysLate == 96,'NumberOfTime30-59DaysPastDueNotWorse'] = 0; borrowers\n",
    "#borrowers.ix[borrowers.NumberOfTimes90DaysLate == 98,'NumberOfTime60-89DaysPastDueNotWorse'] = 0; borrowers\n",
    "#borrowers.ix[borrowers.NumberOfTimes90DaysLate == 96,'NumberOfTime60-89DaysPastDueNotWorse'] = 0; borrowers\n",
    "\n",
    "my_input = borrowers[['RevolvingUtilizationOfUnsecuredLines', 'age','Num3059DaysPastDueNotWorse', 'DebtRatio', 'MonthlyIncome', 'NumberOfOpenCreditLinesAndLoans', 'NumberOfTimes90DaysLate', 'NumberRealEstateLoansOrLines', 'Num6089DaysPastDueNotWorse','NumberOfDependents', 'LateOthers90','LateOthers60','LateOthers30' ]].values\n",
    "\n",
    "default_output = borrowers['SeriousDlqin2yrs'].values\n",
    "\n",
    "a=logm.fit(my_input, default_output)\n",
    "logm.score(my_input, default_output)\n"
   ]
  },
  {
   "cell_type": "code",
   "execution_count": 106,
   "metadata": {
    "collapsed": true
   },
   "outputs": [],
   "source": [
    "#output results\n",
    "borrowerstest = pd.read_csv(u'./cs-test.csv')\n",
    "borrowerstest = borrowerstest.fillna(0)\n",
    "\n",
    "borrowerstest['LateOthers90'] = 5#just initialising it\n",
    "#borrowerstest['LateRefusedToSay90'] = 5\n",
    "borrowerstest.ix[borrowerstest.NumberOfTimes90DaysLate == 96,'LateOthers90'] = 1; borrowerstest\n",
    "borrowerstest.ix[borrowerstest.NumberOfTimes90DaysLate != 96,'LateOthers90'] = 0; borrowerstest\n",
    "borrowerstest.ix[borrowerstest.NumberOfTimes90DaysLate == 98,'LateOthers90'] = 1; borrowerstest\n",
    "borrowerstest.ix[borrowerstest.NumberOfTimes90DaysLate != 98,'LateOthers90'] = 0; borrowerstest\n",
    "borrowerstest.ix[borrowerstest.NumberOfTimes90DaysLate == 98,'NumberOfTimes90DaysLate'] = 0; borrowerstest\n",
    "borrowerstest.ix[borrowerstest.NumberOfTimes90DaysLate == 96,'NumberOfTimes90DaysLate'] = 0; borrowerstest\n",
    "###\n",
    "#need to rename the 60 30 variable and do as above because they have '-' symbols in them \n",
    "names = borrowerstest.columns.tolist()\n",
    "names[names.index('NumberOfTime60-89DaysPastDueNotWorse')] = 'Num6089DaysPastDueNotWorse'\n",
    "names[names.index('NumberOfTime30-59DaysPastDueNotWorse')] = 'Num3059DaysPastDueNotWorse'\n",
    "borrowerstest.columns = names\n",
    "\n",
    "### Now create more dummy variables.\n",
    "borrowerstest['LateOthers60'] = 5\n",
    "#borrowerstest['LateRefusedToSay60'] = 5\n",
    "borrowerstest.ix[borrowerstest.Num6089DaysPastDueNotWorse == 96,'LateOthers60'] = 1; borrowerstest\n",
    "borrowerstest.ix[borrowerstest.Num6089DaysPastDueNotWorse != 96,'LateOthers60'] = 0; borrowerstest\n",
    "borrowerstest.ix[borrowerstest.Num6089DaysPastDueNotWorse == 98,'LateOthers60'] = 1; borrowerstest\n",
    "borrowerstest.ix[borrowerstest.Num6089DaysPastDueNotWorse != 98,'LateOthers60'] = 0; borrowerstest\n",
    "borrowerstest.ix[borrowerstest.Num6089DaysPastDueNotWorse == 98,'Num6089DaysPastDueNotWorse'] = 0; borrowerstest\n",
    "borrowerstest.ix[borrowerstest.Num6089DaysPastDueNotWorse == 96,'Num6089DaysPastDueNotWorse'] = 0; borrowerstest\n",
    "\n",
    "borrowerstest['LateOthers30'] = 5\n",
    "#borrowerstest['LateRefusedToSay30'] = 5\n",
    "borrowerstest.ix[borrowerstest.Num3059DaysPastDueNotWorse == 96,'LateOthers30'] = 1; borrowerstest\n",
    "borrowerstest.ix[borrowerstest.Num3059DaysPastDueNotWorse != 96,'LateOthers30'] = 0; borrowerstest\n",
    "borrowerstest.ix[borrowerstest.Num3059DaysPastDueNotWorse == 98,'LateOthers30'] = 1; borrowerstest\n",
    "borrowerstest.ix[borrowerstest.Num3059DaysPastDueNotWorse != 98,'LateOthers30'] = 0; borrowerstest\n",
    "borrowerstest.ix[borrowerstest.Num3059DaysPastDueNotWorse == 98,'Num3059DaysPastDueNotWorse'] = 0; borrowerstest\n",
    "borrowerstest.ix[borrowerstest.Num3059DaysPastDueNotWorse == 96,'Num3059DaysPastDueNotWorse'] = 0; borrowerstest\n",
    "\n",
    "\n",
    "\n",
    "\n",
    "my_inputtest = borrowerstest[['RevolvingUtilizationOfUnsecuredLines', 'age','Num3059DaysPastDueNotWorse', 'DebtRatio', 'MonthlyIncome', 'NumberOfOpenCreditLinesAndLoans', 'NumberOfTimes90DaysLate', 'NumberRealEstateLoansOrLines', 'Num6089DaysPastDueNotWorse','NumberOfDependents', 'LateOthers90','LateOthers60','LateOthers30' ]].values\n",
    "predictionstest = logm.predict_proba(my_inputtest)[:,1]\n",
    "\n",
    "submission = DataFrame({'Id':borrowerstest.icol(0), 'Probability':predictionstest})\n",
    "submission.to_csv('Entry.csv', index=False)"
   ]
  },
  {
   "cell_type": "code",
   "execution_count": 107,
   "metadata": {
    "collapsed": false
   },
   "outputs": [
    {
     "data": {
      "text/plain": [
       "(1713, 15)"
      ]
     },
     "execution_count": 107,
     "metadata": {},
     "output_type": "execute_result"
    }
   ],
   "source": [
    "borrowers.loc[borrowers['SeriousDlqin2yrs'] == 0].loc[borrowers['DebtRatio'] > 50].shape"
   ]
  },
  {
   "cell_type": "code",
   "execution_count": 108,
   "metadata": {
    "collapsed": false
   },
   "outputs": [
    {
     "data": {
      "text/plain": [
       "(71, 15)"
      ]
     },
     "execution_count": 108,
     "metadata": {},
     "output_type": "execute_result"
    }
   ],
   "source": [
    "borrowers.loc[borrowers['SeriousDlqin2yrs'] == 1].loc[borrowers['DebtRatio'] > 50].shape"
   ]
  },
  {
   "cell_type": "code",
   "execution_count": 109,
   "metadata": {
    "collapsed": false
   },
   "outputs": [
    {
     "data": {
      "text/plain": [
       "0.0397982062780269"
      ]
     },
     "execution_count": 109,
     "metadata": {},
     "output_type": "execute_result"
    }
   ],
   "source": [
    "71.0/(1713+71)"
   ]
  },
  {
   "cell_type": "code",
   "execution_count": 110,
   "metadata": {
    "collapsed": false
   },
   "outputs": [
    {
     "data": {
      "text/plain": [
       "(6456, 15)"
      ]
     },
     "execution_count": 110,
     "metadata": {},
     "output_type": "execute_result"
    }
   ],
   "source": [
    "borrowers.loc[borrowers['SeriousDlqin2yrs'] == 0].loc[borrowers['DebtRatio'] > 1].shape"
   ]
  },
  {
   "cell_type": "code",
   "execution_count": 111,
   "metadata": {
    "collapsed": false
   },
   "outputs": [
    {
     "data": {
      "text/plain": [
       "(708, 15)"
      ]
     },
     "execution_count": 111,
     "metadata": {},
     "output_type": "execute_result"
    }
   ],
   "source": [
    "borrowers.loc[borrowers['SeriousDlqin2yrs'] == 1].loc[borrowers['DebtRatio'] > 1].shape"
   ]
  },
  {
   "cell_type": "code",
   "execution_count": 112,
   "metadata": {
    "collapsed": false
   },
   "outputs": [
    {
     "data": {
      "text/plain": [
       "0.09882747068676717"
      ]
     },
     "execution_count": 112,
     "metadata": {},
     "output_type": "execute_result"
    }
   ],
   "source": [
    "708.0/(6456+708)"
   ]
  },
  {
   "cell_type": "code",
   "execution_count": 114,
   "metadata": {
    "collapsed": false
   },
   "outputs": [],
   "source": [
    "#borrowers.loc[borrowers['SeriousDlqin2yrs'] == 0].loc[borrowers['DebtRatio'] > 50]"
   ]
  },
  {
   "cell_type": "code",
   "execution_count": 44,
   "metadata": {
    "collapsed": false
   },
   "outputs": [
    {
     "data": {
      "text/plain": [
       "0.93681427072402934"
      ]
     },
     "execution_count": 44,
     "metadata": {},
     "output_type": "execute_result"
    }
   ],
   "source": [
    "# now lets try creating a seprate variable when debt ratio is an integer\n",
    "borrowers = pd.read_csv(u'./cs-training.csv')\n",
    "borrowers = borrowers.dropna()\n",
    "#borrowers = borrowers[borrowers.NumberOfTimes90DaysLate < 96]\n",
    "borrowers = borrowers[borrowers.RevolvingUtilizationOfUnsecuredLines < 1.1]\n",
    "borrowers = borrowers[borrowers.NumberRealEstateLoansOrLines < 32]\n",
    "borrowers = borrowers[borrowers.age > 0]\n",
    "#borrowers = borrowers[borrowers.age < 100]\n",
    "#borrowers = borrowers[borrowers.DebtRatio < 2]\n",
    "borrowers['LateOthers90'] = 5#just initialising it\n",
    "borrowers['LateRefusedToSay90'] = 5\n",
    "borrowers.ix[borrowers.NumberOfTimes90DaysLate == 96,'LateOthers90'] = 1; borrowers\n",
    "borrowers.ix[borrowers.NumberOfTimes90DaysLate != 96,'LateOthers90'] = 0; borrowers\n",
    "borrowers.ix[borrowers.NumberOfTimes90DaysLate == 98,'LateRefusedToSay90'] = 1; borrowers\n",
    "borrowers.ix[borrowers.NumberOfTimes90DaysLate != 98,'LateRefusedToSay90'] = 0; borrowers\n",
    "borrowers.ix[borrowers.NumberOfTimes90DaysLate == 98,'NumberOfTimes90DaysLate'] = 0; borrowers\n",
    "borrowers.ix[borrowers.NumberOfTimes90DaysLate == 96,'NumberOfTimes90DaysLate'] = 0; borrowers\n",
    "###\n",
    "#need to rename the 60 30 variable and do as above because they have '-' symbols in them \n",
    "names = borrowers.columns.tolist()\n",
    "names[names.index('NumberOfTime60-89DaysPastDueNotWorse')] = 'Num6089DaysPastDueNotWorse'\n",
    "names[names.index('NumberOfTime30-59DaysPastDueNotWorse')] = 'Num3059DaysPastDueNotWorse'\n",
    "borrowers.columns = names\n",
    "\n",
    "### Now create more dummy variables.\n",
    "borrowers['LateOthers60'] = 5\n",
    "borrowers['LateRefusedToSay60'] = 5\n",
    "borrowers.ix[borrowers.Num6089DaysPastDueNotWorse == 96,'LateOthers60'] = 1; borrowers\n",
    "borrowers.ix[borrowers.Num6089DaysPastDueNotWorse != 96,'LateOthers60'] = 0; borrowers\n",
    "borrowers.ix[borrowers.Num6089DaysPastDueNotWorse == 98,'LateRefusedToSay60'] = 1; borrowers\n",
    "borrowers.ix[borrowers.Num6089DaysPastDueNotWorse != 98,'LateRefusedToSay60'] = 0; borrowers\n",
    "borrowers.ix[borrowers.Num6089DaysPastDueNotWorse == 98,'Num6089DaysPastDueNotWorse'] = 0; borrowers\n",
    "borrowers.ix[borrowers.Num6089DaysPastDueNotWorse == 96,'Num6089DaysPastDueNotWorse'] = 0; borrowers\n",
    "\n",
    "borrowers['LateOthers30'] = 5\n",
    "borrowers['LateRefusedToSay30'] = 5\n",
    "borrowers.ix[borrowers.Num3059DaysPastDueNotWorse == 96,'LateOthers30'] = 1; borrowers\n",
    "borrowers.ix[borrowers.Num3059DaysPastDueNotWorse != 96,'LateOthers30'] = 0; borrowers\n",
    "borrowers.ix[borrowers.Num3059DaysPastDueNotWorse == 98,'LateRefusedToSay30'] = 1; borrowers\n",
    "borrowers.ix[borrowers.Num3059DaysPastDueNotWorse != 98,'LateRefusedToSay30'] = 0; borrowers\n",
    "borrowers.ix[borrowers.Num3059DaysPastDueNotWorse == 98,'Num3059DaysPastDueNotWorse'] = 0; borrowers\n",
    "borrowers.ix[borrowers.Num3059DaysPastDueNotWorse == 96,'Num3059DaysPastDueNotWorse'] = 0; borrowers\n",
    "\n",
    "#borrowers.ix[borrowers.NumberOfTimes90DaysLate == 98,'NumberOfTime30-59DaysPastDueNotWorse'] = 0; borrowers\n",
    "#borrowers.ix[borrowers.NumberOfTimes90DaysLate == 96,'NumberOfTime30-59DaysPastDueNotWorse'] = 0; borrowers\n",
    "#borrowers.ix[borrowers.NumberOfTimes90DaysLate == 98,'NumberOfTime60-89DaysPastDueNotWorse'] = 0; borrowers\n",
    "#borrowers.ix[borrowers.NumberOfTimes90DaysLate == 96,'NumberOfTime60-89DaysPastDueNotWorse'] = 0; borrowers\n",
    "\n",
    "borrowers['debtratioanint'] = 1\n",
    "borrowers.ix[borrowers.DebtRatio%1 == 0,'debtratioanint'] = 1; borrowers\n",
    "borrowers.ix[borrowers.DebtRatio%1 != 0,'debtratioanint'] = 0; borrowers\n",
    "#borrowers.ix[borrowers.DebtRatio == 0,'debtratioanint'] = 0; borrowers\n",
    "\n",
    "my_input = borrowers[['RevolvingUtilizationOfUnsecuredLines', 'age','Num3059DaysPastDueNotWorse', 'DebtRatio', 'MonthlyIncome', 'NumberOfOpenCreditLinesAndLoans', 'NumberOfTimes90DaysLate', 'NumberRealEstateLoansOrLines', 'Num6089DaysPastDueNotWorse','NumberOfDependents', 'LateOthers90', 'LateRefusedToSay90','LateOthers60', 'LateRefusedToSay60','LateOthers30', 'LateRefusedToSay30','debtratioanint']].values\n",
    "\n",
    "default_output = borrowers['SeriousDlqin2yrs'].values\n",
    "\n",
    "a=logm.fit(my_input, default_output)\n",
    "logm.score(my_input, default_output)"
   ]
  },
  {
   "cell_type": "code",
   "execution_count": 45,
   "metadata": {
    "collapsed": false
   },
   "outputs": [],
   "source": [
    "#borrowers.loc[borrowers['DebtRatio']%1 ==0]"
   ]
  },
  {
   "cell_type": "code",
   "execution_count": 46,
   "metadata": {
    "collapsed": true
   },
   "outputs": [],
   "source": [
    "#output results\n",
    "borrowerstest = pd.read_csv(u'./cs-test.csv')\n",
    "borrowerstest = borrowerstest.fillna(0)\n",
    "\n",
    "borrowerstest['LateOthers90'] = 5#just initialising it\n",
    "borrowerstest['LateRefusedToSay90'] = 5\n",
    "borrowerstest.ix[borrowerstest.NumberOfTimes90DaysLate == 96,'LateOthers90'] = 1; borrowerstest\n",
    "borrowerstest.ix[borrowerstest.NumberOfTimes90DaysLate != 96,'LateOthers90'] = 0; borrowerstest\n",
    "borrowerstest.ix[borrowerstest.NumberOfTimes90DaysLate == 98,'LateRefusedToSay90'] = 1; borrowerstest\n",
    "borrowerstest.ix[borrowerstest.NumberOfTimes90DaysLate != 98,'LateRefusedToSay90'] = 0; borrowerstest\n",
    "borrowerstest.ix[borrowerstest.NumberOfTimes90DaysLate == 98,'NumberOfTimes90DaysLate'] = 0; borrowerstest\n",
    "borrowerstest.ix[borrowerstest.NumberOfTimes90DaysLate == 96,'NumberOfTimes90DaysLate'] = 0; borrowerstest\n",
    "###\n",
    "#need to rename the 60 30 variable and do as above because they have '-' symbols in them \n",
    "names = borrowerstest.columns.tolist()\n",
    "names[names.index('NumberOfTime60-89DaysPastDueNotWorse')] = 'Num6089DaysPastDueNotWorse'\n",
    "names[names.index('NumberOfTime30-59DaysPastDueNotWorse')] = 'Num3059DaysPastDueNotWorse'\n",
    "borrowerstest.columns = names\n",
    "\n",
    "### Now create more dummy variables.\n",
    "borrowerstest['LateOthers60'] = 5\n",
    "borrowerstest['LateRefusedToSay60'] = 5\n",
    "borrowerstest.ix[borrowerstest.Num6089DaysPastDueNotWorse == 96,'LateOthers60'] = 1; borrowerstest\n",
    "borrowerstest.ix[borrowerstest.Num6089DaysPastDueNotWorse != 96,'LateOthers60'] = 0; borrowerstest\n",
    "borrowerstest.ix[borrowerstest.Num6089DaysPastDueNotWorse == 98,'LateRefusedToSay60'] = 1; borrowerstest\n",
    "borrowerstest.ix[borrowerstest.Num6089DaysPastDueNotWorse != 98,'LateRefusedToSay60'] = 0; borrowerstest\n",
    "borrowerstest.ix[borrowerstest.Num6089DaysPastDueNotWorse == 98,'Num6089DaysPastDueNotWorse'] = 0; borrowerstest\n",
    "borrowerstest.ix[borrowerstest.Num6089DaysPastDueNotWorse == 96,'Num6089DaysPastDueNotWorse'] = 0; borrowerstest\n",
    "\n",
    "borrowerstest['LateOthers30'] = 5\n",
    "borrowerstest['LateRefusedToSay30'] = 5\n",
    "borrowerstest.ix[borrowerstest.Num3059DaysPastDueNotWorse == 96,'LateOthers30'] = 1; borrowerstest\n",
    "borrowerstest.ix[borrowerstest.Num3059DaysPastDueNotWorse != 96,'LateOthers30'] = 0; borrowerstest\n",
    "borrowerstest.ix[borrowerstest.Num3059DaysPastDueNotWorse == 98,'LateRefusedToSay30'] = 1; borrowerstest\n",
    "borrowerstest.ix[borrowerstest.Num3059DaysPastDueNotWorse != 98,'LateRefusedToSay30'] = 0; borrowerstest\n",
    "borrowerstest.ix[borrowerstest.Num3059DaysPastDueNotWorse == 98,'Num3059DaysPastDueNotWorse'] = 0; borrowerstest\n",
    "borrowerstest.ix[borrowerstest.Num3059DaysPastDueNotWorse == 96,'Num3059DaysPastDueNotWorse'] = 0; borrowerstest\n",
    "\n",
    "\n",
    "borrowerstest['debtratioanint'] = 1\n",
    "borrowerstest.ix[borrowerstest.DebtRatio%1 == 0,'debtratioanint'] = 1; borrowerstest\n",
    "borrowerstest.ix[borrowerstest.DebtRatio%1 != 0,'debtratioanint'] = 0; borrowerstest\n",
    "#borrowerstest.ix[borrowerstest.DebtRatio == 0,'debtratioanint'] = 0; borrowerstest\n",
    "\n",
    "my_inputtest = borrowerstest[['RevolvingUtilizationOfUnsecuredLines', 'age','Num3059DaysPastDueNotWorse', 'DebtRatio', 'MonthlyIncome', 'NumberOfOpenCreditLinesAndLoans', 'NumberOfTimes90DaysLate', 'NumberRealEstateLoansOrLines', 'Num6089DaysPastDueNotWorse','NumberOfDependents', 'LateOthers90', 'LateRefusedToSay90','LateOthers60', 'LateRefusedToSay60','LateOthers30', 'LateRefusedToSay30','debtratioanint']].values\n",
    "predictionstest = logm.predict_proba(my_inputtest)[:,1]\n",
    "\n",
    "submission = DataFrame({'Id':borrowerstest.icol(0), 'Probability':predictionstest})\n",
    "submission.to_csv('Entry.csv', index=False)"
   ]
  },
  {
   "cell_type": "code",
   "execution_count": 47,
   "metadata": {
    "collapsed": true
   },
   "outputs": [],
   "source": [
    "#great so that gives me 0.851183 best score yet. Note that zero is considered an int"
   ]
  },
  {
   "cell_type": "code",
   "execution_count": 48,
   "metadata": {
    "collapsed": true
   },
   "outputs": [],
   "source": [
    "#Cross Validation\n",
    "# We would like to create out training set \n",
    "n = int(len(default_output) * 0.7)"
   ]
  },
  {
   "cell_type": "code",
   "execution_count": 49,
   "metadata": {
    "collapsed": true
   },
   "outputs": [],
   "source": [
    "# Stack array in sequence horizointally with hstack\n",
    "ind = np.hstack( (np.ones(n, dtype=np.bool), np.zeros(len(default_output) - n, dtype=np.bool) ) )"
   ]
  },
  {
   "cell_type": "code",
   "execution_count": 50,
   "metadata": {
    "collapsed": false
   },
   "outputs": [
    {
     "data": {
      "text/plain": [
       "array([ True,  True,  True, ..., False, False, False], dtype=bool)"
      ]
     },
     "execution_count": 50,
     "metadata": {},
     "output_type": "execute_result"
    }
   ],
   "source": [
    "ind"
   ]
  },
  {
   "cell_type": "code",
   "execution_count": 51,
   "metadata": {
    "collapsed": false
   },
   "outputs": [
    {
     "data": {
      "text/plain": [
       "array([ True,  True, False, ...,  True,  True,  True], dtype=bool)"
      ]
     },
     "execution_count": 51,
     "metadata": {},
     "output_type": "execute_result"
    }
   ],
   "source": [
    "np.random.shuffle(ind)\n",
    "ind"
   ]
  },
  {
   "cell_type": "code",
   "execution_count": 52,
   "metadata": {
    "collapsed": true
   },
   "outputs": [],
   "source": [
    "# we can create our training and testing set \n",
    "X_train, X_test = my_input[ind], my_input[ind==False]\n",
    "Y_train, Y_test = default_output[ind], default_output[ind==False]"
   ]
  },
  {
   "cell_type": "code",
   "execution_count": 53,
   "metadata": {
    "collapsed": false
   },
   "outputs": [
    {
     "data": {
      "text/plain": [
       "0.93779730259107952"
      ]
     },
     "execution_count": 53,
     "metadata": {},
     "output_type": "execute_result"
    }
   ],
   "source": [
    "# Let us do the magic!\n",
    "logm.fit(X_train, Y_train)\n",
    "logm.score(X_test, Y_test) "
   ]
  },
  {
   "cell_type": "code",
   "execution_count": 54,
   "metadata": {
    "collapsed": true
   },
   "outputs": [],
   "source": [
    "#Application of cross validation\n",
    "#The work in class showed that with 21 neighbors, we can get an \n",
    "#ideal result that doesnt overfit the data. To verify this, we'll use \n",
    "#cross validation\n",
    "scores=[]"
   ]
  },
  {
   "cell_type": "code",
   "execution_count": 57,
   "metadata": {
    "collapsed": false
   },
   "outputs": [
    {
     "name": "stdout",
     "output_type": "stream",
     "text": [
      "[[33084   235]\n",
      " [ 2082   337]]\n",
      "[[33117   248]\n",
      " [ 2017   356]]\n",
      "[[33176   236]\n",
      " [ 1980   346]]\n",
      "[[33171   254]\n",
      " [ 1947   366]]\n",
      "[[33129   229]\n",
      " [ 2010   370]]\n"
     ]
    }
   ],
   "source": [
    "for k in range(5):\n",
    "    np.random.shuffle(ind)\n",
    "    X_train, X_test = my_input[ind],my_input[ind==False]\n",
    "    Y_train, Y_test = default_output[ind],default_output[ind==False]\n",
    "    logm.fit(X_train, Y_train)\n",
    "    scores.append(logm.score(X_test, Y_test))\n",
    "    predictionstest = logm.predict_proba(my_inputtest)[:,1]\n",
    "    submission = DataFrame({'Id':borrowerstest.icol(0), 'Probability':predictionstest})\n",
    "    submission.to_csv('Entry'+str(k)+'.csv', index=False)\n",
    "    y_pred = logm.predict(X_test)\n",
    "    print metrics.confusion_matrix(Y_test, y_pred)\n",
    "    fpr, tpr, thresholds = metrics.roc_curve(Y_test, y_pred)"
   ]
  },
  {
   "cell_type": "code",
   "execution_count": 58,
   "metadata": {
    "collapsed": false
   },
   "outputs": [
    {
     "data": {
      "text/plain": [
       "[<matplotlib.lines.Line2D at 0x10d86f750>]"
      ]
     },
     "execution_count": 58,
     "metadata": {},
     "output_type": "execute_result"
    },
    {
     "data": {
      "image/png": "[encoded data removed]",
      "text/plain": [
       "<matplotlib.figure.Figure at 0x108994850>"
      ]
     },
     "metadata": {},
     "output_type": "display_data"
    }
   ],
   "source": [
    "plt.plot(fpr, tpr)"
   ]
  },
  {
   "cell_type": "code",
   "execution_count": 56,
   "metadata": {
    "collapsed": false
   },
   "outputs": [
    {
     "name": "stdout",
     "output_type": "stream",
     "text": [
      "[0.93796519111310095, 0.9383009681571437, 0.93561475180480158, 0.93645419441490851, 0.9358106217471599]\n"
     ]
    }
   ],
   "source": [
    "print scores"
   ]
  },
  {
   "cell_type": "code",
   "execution_count": 128,
   "metadata": {
    "collapsed": false
   },
   "outputs": [
    {
     "name": "stdout",
     "output_type": "stream",
     "text": [
      "0.937220885332\n"
     ]
    }
   ],
   "source": [
    "print np.mean(scores)"
   ]
  },
  {
   "cell_type": "code",
   "execution_count": 129,
   "metadata": {
    "collapsed": false
   },
   "outputs": [],
   "source": [
    "y_pred = logm.predict(my_input)\n",
    "# ROC\n",
    "fpr, tpr, thresholds = metrics.roc_curve(default_output, y_pred)"
   ]
  },
  {
   "cell_type": "code",
   "execution_count": 130,
   "metadata": {
    "collapsed": false
   },
   "outputs": [
    {
     "data": {
      "text/plain": [
       "array([[110375,    845],\n",
       "       [  6686,   1219]])"
      ]
     },
     "execution_count": 130,
     "metadata": {},
     "output_type": "execute_result"
    }
   ],
   "source": [
    "metrics.confusion_matrix(default_output, y_pred)"
   ]
  },
  {
   "cell_type": "raw",
   "metadata": {},
   "source": []
  },
  {
   "cell_type": "code",
   "execution_count": 131,
   "metadata": {
    "collapsed": false
   },
   "outputs": [
    {
     "data": {
      "text/plain": [
       "array([ 0.       ,  0.1542062,  1.       ])"
      ]
     },
     "execution_count": 131,
     "metadata": {},
     "output_type": "execute_result"
    }
   ],
   "source": [
    "tpr"
   ]
  },
  {
   "cell_type": "code",
   "execution_count": 132,
   "metadata": {
    "collapsed": false
   },
   "outputs": [
    {
     "data": {
      "text/plain": [
       "[<matplotlib.lines.Line2D at 0x10bccaa90>]"
      ]
     },
     "execution_count": 132,
     "metadata": {},
     "output_type": "execute_result"
    },
    {
     "data": {
      "image/png": "[encoded data removed]",
      "text/plain": [
       "<matplotlib.figure.Figure at 0x10e979ed0>"
      ]
     },
     "metadata": {},
     "output_type": "display_data"
    }
   ],
   "source": [
    "plt.plot(fpr, tpr)"
   ]
  },
  {
   "cell_type": "code",
   "execution_count": 387,
   "metadata": {
    "collapsed": false
   },
   "outputs": [
    {
     "name": "stdout",
     "output_type": "stream",
     "text": [
      "Populating the interactive namespace from numpy and matplotlib\n",
      "DecisionTree with features [0, 1] has a score of 0.985863588667\n",
      "RandomForest with 30 estimators with features [0, 1] has a score of 0.982488982162\n",
      "ExtraTrees with 30 estimators with features [0, 1] has a score of 0.985863588667\n",
      "AdaBoost with 30 estimators with features [0, 1] has a score of 0.985863588667\n",
      "DecisionTree with features [0, 2] has a score of 0.984998950682\n",
      "RandomForest with 30 estimators with features [0, 2] has a score of 0.981876180483\n",
      "ExtraTrees with 30 estimators with features [0, 2] has a score of 0.98506610703\n",
      "AdaBoost with 30 estimators with features [0, 2] has a score of 0.984998950682\n",
      "DecisionTree with features [2, 3] has a score of 0.956566631689\n",
      "RandomForest with 30 estimators with features [2, 3] has a score of 0.956256033578\n",
      "ExtraTrees with 30 estimators with features [2, 3] has a score of 0.968419727177\n",
      "AdaBoost with 30 estimators with features [2, 3] has a score of 0.956566631689\n"
     ]
    },
    {
     "data": {
      "image/png": "[encoded data removed]",
      "text/plain": [
       "<matplotlib.figure.Figure at 0x104ce8310>"
      ]
     },
     "metadata": {},
     "output_type": "display_data"
    }
   ],
   "source": [
    "#Ensemble Techniques\n",
    "\n",
    "import numpy as np\n",
    "import pylab as pl\n",
    "%pylab inline\n",
    "\n",
    "from sklearn import clone\n",
    "#from sklearn.datasets import load_iris\n",
    "\n",
    "from sklearn.ensemble.weight_boosting import AdaBoostClassifier\n",
    "from sklearn.ensemble.forest import (RandomForestClassifier, ExtraTreesClassifier)\n",
    "\n",
    "from sklearn.externals.six.moves import xrange\n",
    "from sklearn.tree import DecisionTreeClassifier\n",
    "\n",
    "# Parameters\n",
    "n_classes = 3\n",
    "n_estimators = 30\n",
    "plot_colors = \"bry\"\n",
    "plot_step = 0.02\n",
    "\n",
    "# Load data\n",
    "#iris = load_iris()\n",
    "\n",
    "plot_idx = 1\n",
    "\n",
    "for pair in ([0, 1], [0, 2], [2, 3]):\n",
    "    for model in (DecisionTreeClassifier(), RandomForestClassifier(n_estimators=n_estimators), ExtraTreesClassifier(n_estimators=n_estimators), AdaBoostClassifier(DecisionTreeClassifier(), n_estimators=n_estimators)):\n",
    "        # We only take the two corresponding features\n",
    "        X = my_input[:, pair]\n",
    "        y = default_output\n",
    "        \n",
    "        # Shuffle\n",
    "        idx = np.arange(X.shape[0])\n",
    "        np.random.seed(13)\n",
    "        np.random.shuffle(idx)\n",
    "        X = X[idx]\n",
    "        y = y[idx]\n",
    "        \n",
    "        # Standardize... Doesnt have to be done but\n",
    "        mean = X.mean(axis=0)\n",
    "        std = X.std(axis=0)\n",
    "        X = (X - mean) / std\n",
    "        \n",
    "        # Train\n",
    "        clf = model.fit(X, y)\n",
    "        \n",
    "        # Get accuracy scores\n",
    "        scores = clf.score(X, y)\n",
    "        # Create a title for each column and the console by using str() and slicing away useless parts of the string\n",
    "        model_title = str(type(model)).split(\".\")[-1][:-2][:-len(\"Classifier\")]\n",
    "        model_details = model_title\n",
    "        if hasattr(model, \"estimators_\"):\n",
    "            model_details += \" with {} estimators\".format(len(model.estimators_))\n",
    "        print model_details + \" with features\", pair, \"has a score of\", scores\n",
    "        \n",
    "        # Plot the decision boundary\n",
    "        pl.subplot(3, 4, plot_idx)\n",
    "        \n",
    "        x_min, x_max = X[:, 0].min() - 1, X[:, 0].max() + 1\n",
    "        y_min, y_max = X[:, 1].min() - 1, X[:, 1].max() + 1\n",
    "        xx, yy = np.meshgrid(np.arange(x_min, x_max, plot_step), np.arange(y_min, y_max, plot_step))\n",
    "        \n",
    "        if isinstance(model, DecisionTreeClassifier):\n",
    "            Z = model.predict(np.c_[xx.ravel(), yy.ravel()])\n",
    "            Z = Z.reshape(xx.shape)\n",
    "            cs = pl.contourf(xx, yy, Z, cmap=pl.cm.Paired)\n",
    "        else:\n",
    "            for tree in model.estimators_:\n",
    "                Z = tree.predict(np.c_[xx.ravel(), yy.ravel()])\n",
    "                Z = Z.reshape(xx.shape)\n",
    "                cs = pl.contourf(xx, yy, Z, alpha=0.1, cmap=pl.cm.Paired)\n",
    "        pl.axis(\"tight\")\n",
    "        \n",
    "        # Plot the training points\n",
    "        for i, c in zip(xrange(n_classes), plot_colors):\n",
    "            idx = np.where(y == i)\n",
    "            pl.scatter(X[idx, 0], X[idx, 1], c=c, label=borrowers.columns[i], cmap=pl.cm.Paired)\n",
    "        pl.axis(\"tight\")\n",
    "        \n",
    "        plot_idx += 1\n",
    "\n",
    "pl.suptitle(\"Decision surfaces of DecisionTreeClassifier, \"\"RandomForestClassifier,\\nExtraTreesClassifier\"\" and AdaBoostClassifier\")\n",
    "pl.show()"
   ]
  },
  {
   "cell_type": "code",
   "execution_count": 1,
   "metadata": {
    "collapsed": false
   },
   "outputs": [
    {
     "name": "stdout",
     "output_type": "stream",
     "text": [
      "Populating the interactive namespace from numpy and matplotlib\n"
     ]
    }
   ],
   "source": [
    "#Project \n",
    "#First up linear regression.\n",
    "import pylab as pl\n",
    "%pylab inline\n",
    "import numpy as np\n",
    "import pandas as pd\n",
    "from pandas import DataFrame, concat\n",
    "import matplotlib.pyplot as plt\n",
    "# Let us load the dataset. This one is tab delimited...\n",
    "borrowers = pd.read_csv(u'./cs-training.csv')\n",
    "\n",
    "from sklearn import datasets, metrics\n",
    "\n",
    "# We import the Gaussian Naive Bayes module\n",
    "from sklearn.naive_bayes import GaussianNB\n",
    "\n",
    "# Create an instance of the classifiers\n",
    "gnb = GaussianNB()\n",
    "\n",
    "# Now change to gnb\n",
    "borrowers = pd.read_csv(u'./cs-training.csv')\n",
    "borrowers = borrowers.dropna()\n",
    "#borrowers = borrowers[borrowers.NumberOfTimes90DaysLate < 96]\n",
    "borrowers = borrowers[borrowers.RevolvingUtilizationOfUnsecuredLines < 1.1]\n",
    "borrowers = borrowers[borrowers.NumberRealEstateLoansOrLines < 32]\n",
    "borrowers = borrowers[borrowers.age > 0]\n",
    "#borrowers = borrowers[borrowers.age < 100]\n",
    "#borrowers = borrowers[borrowers.DebtRatio < 2]\n",
    "borrowers['LateOthers90'] = 5#just initialising it\n",
    "borrowers['LateRefusedToSay90'] = 5\n",
    "borrowers.ix[borrowers.NumberOfTimes90DaysLate == 96,'LateOthers90'] = 1; borrowers\n",
    "borrowers.ix[borrowers.NumberOfTimes90DaysLate != 96,'LateOthers90'] = 0; borrowers\n",
    "borrowers.ix[borrowers.NumberOfTimes90DaysLate == 98,'LateRefusedToSay90'] = 1; borrowers\n",
    "borrowers.ix[borrowers.NumberOfTimes90DaysLate != 98,'LateRefusedToSay90'] = 0; borrowers\n",
    "borrowers.ix[borrowers.NumberOfTimes90DaysLate == 98,'NumberOfTimes90DaysLate'] = 0; borrowers\n",
    "borrowers.ix[borrowers.NumberOfTimes90DaysLate == 96,'NumberOfTimes90DaysLate'] = 0; borrowers\n",
    "###\n",
    "#need to rename the 60 30 variable and do as above because they have '-' symbols in them \n",
    "names = borrowers.columns.tolist()\n",
    "names[names.index('NumberOfTime60-89DaysPastDueNotWorse')] = 'Num6089DaysPastDueNotWorse'\n",
    "names[names.index('NumberOfTime30-59DaysPastDueNotWorse')] = 'Num3059DaysPastDueNotWorse'\n",
    "borrowers.columns = names\n",
    "\n",
    "### Now create more dummy variables.\n",
    "borrowers['LateOthers60'] = 5\n",
    "borrowers['LateRefusedToSay60'] = 5\n",
    "borrowers.ix[borrowers.Num6089DaysPastDueNotWorse == 96,'LateOthers60'] = 1; borrowers\n",
    "borrowers.ix[borrowers.Num6089DaysPastDueNotWorse != 96,'LateOthers60'] = 0; borrowers\n",
    "borrowers.ix[borrowers.Num6089DaysPastDueNotWorse == 98,'LateRefusedToSay60'] = 1; borrowers\n",
    "borrowers.ix[borrowers.Num6089DaysPastDueNotWorse != 98,'LateRefusedToSay60'] = 0; borrowers\n",
    "borrowers.ix[borrowers.Num6089DaysPastDueNotWorse == 98,'Num6089DaysPastDueNotWorse'] = 0; borrowers\n",
    "borrowers.ix[borrowers.Num6089DaysPastDueNotWorse == 96,'Num6089DaysPastDueNotWorse'] = 0; borrowers\n",
    "\n",
    "borrowers['LateOthers30'] = 5\n",
    "borrowers['LateRefusedToSay30'] = 5\n",
    "borrowers.ix[borrowers.Num3059DaysPastDueNotWorse == 96,'LateOthers30'] = 1; borrowers\n",
    "borrowers.ix[borrowers.Num3059DaysPastDueNotWorse != 96,'LateOthers30'] = 0; borrowers\n",
    "borrowers.ix[borrowers.Num3059DaysPastDueNotWorse == 98,'LateRefusedToSay30'] = 1; borrowers\n",
    "borrowers.ix[borrowers.Num3059DaysPastDueNotWorse != 98,'LateRefusedToSay30'] = 0; borrowers\n",
    "borrowers.ix[borrowers.Num3059DaysPastDueNotWorse == 98,'Num3059DaysPastDueNotWorse'] = 0; borrowers\n",
    "borrowers.ix[borrowers.Num3059DaysPastDueNotWorse == 96,'Num3059DaysPastDueNotWorse'] = 0; borrowers\n",
    "\n",
    "#borrowers.ix[borrowers.NumberOfTimes90DaysLate == 98,'NumberOfTime30-59DaysPastDueNotWorse'] = 0; borrowers\n",
    "#borrowers.ix[borrowers.NumberOfTimes90DaysLate == 96,'NumberOfTime30-59DaysPastDueNotWorse'] = 0; borrowers\n",
    "#borrowers.ix[borrowers.NumberOfTimes90DaysLate == 98,'NumberOfTime60-89DaysPastDueNotWorse'] = 0; borrowers\n",
    "#borrowers.ix[borrowers.NumberOfTimes90DaysLate == 96,'NumberOfTime60-89DaysPastDueNotWorse'] = 0; borrowers\n",
    "\n",
    "borrowers['debtratioanint'] = 1\n",
    "borrowers.ix[borrowers.DebtRatio%1 == 0,'debtratioanint'] = 1; borrowers\n",
    "borrowers.ix[borrowers.DebtRatio%1 != 0,'debtratioanint'] = 0; borrowers\n",
    "#borrowers.ix[borrowers.DebtRatio == 0,'debtratioanint'] = 0; borrowers\n",
    "\n",
    "my_input = borrowers[['RevolvingUtilizationOfUnsecuredLines', 'age','Num3059DaysPastDueNotWorse', 'DebtRatio', 'MonthlyIncome', 'NumberOfOpenCreditLinesAndLoans', 'NumberOfTimes90DaysLate', 'NumberRealEstateLoansOrLines', 'Num6089DaysPastDueNotWorse','NumberOfDependents', 'LateOthers90', 'LateRefusedToSay90','LateOthers60', 'LateRefusedToSay60','LateOthers30', 'LateRefusedToSay30','debtratioanint']].values\n",
    "\n",
    "default_output = borrowers['SeriousDlqin2yrs'].values\n",
    "\n",
    "#a=logm.fit(my_input, default_output)\n",
    "#logm.score(my_input, default_output)\n",
    "y_pred = gnb.fit(my_input, default_output).predict(my_input)"
   ]
  },
  {
   "cell_type": "code",
   "execution_count": 2,
   "metadata": {
    "collapsed": false
   },
   "outputs": [
    {
     "data": {
      "text/plain": [
       "[<matplotlib.lines.Line2D at 0x107ac8a50>]"
      ]
     },
     "execution_count": 2,
     "metadata": {},
     "output_type": "execute_result"
    },
    {
     "data": {
      "image/png": "[encoded data removed]",
      "text/plain": [
       "<matplotlib.figure.Figure at 0x10454bbd0>"
      ]
     },
     "metadata": {},
     "output_type": "display_data"
    }
   ],
   "source": [
    "fpr, tpr, thresholds = metrics.roc_curve(default_output, y_pred)\n",
    "plt.plot(fpr, tpr)"
   ]
  },
  {
   "cell_type": "code",
   "execution_count": 3,
   "metadata": {
    "collapsed": false
   },
   "outputs": [
    {
     "name": "stdout",
     "output_type": "stream",
     "text": [
      "[[109013   2207]\n",
      " [  5841   2064]]\n"
     ]
    }
   ],
   "source": [
    "print metrics.confusion_matrix(default_output, y_pred)"
   ]
  },
  {
   "cell_type": "code",
   "execution_count": 4,
   "metadata": {
    "collapsed": false
   },
   "outputs": [],
   "source": [
    "#output results (change to gnb)\n",
    "borrowerstest = pd.read_csv(u'./cs-test.csv')\n",
    "borrowerstest = borrowerstest.fillna(0)\n",
    "\n",
    "borrowerstest['LateOthers90'] = 5#just initialising it\n",
    "borrowerstest['LateRefusedToSay90'] = 5\n",
    "borrowerstest.ix[borrowerstest.NumberOfTimes90DaysLate == 96,'LateOthers90'] = 1; borrowerstest\n",
    "borrowerstest.ix[borrowerstest.NumberOfTimes90DaysLate != 96,'LateOthers90'] = 0; borrowerstest\n",
    "borrowerstest.ix[borrowerstest.NumberOfTimes90DaysLate == 98,'LateRefusedToSay90'] = 1; borrowerstest\n",
    "borrowerstest.ix[borrowerstest.NumberOfTimes90DaysLate != 98,'LateRefusedToSay90'] = 0; borrowerstest\n",
    "borrowerstest.ix[borrowerstest.NumberOfTimes90DaysLate == 98,'NumberOfTimes90DaysLate'] = 0; borrowerstest\n",
    "borrowerstest.ix[borrowerstest.NumberOfTimes90DaysLate == 96,'NumberOfTimes90DaysLate'] = 0; borrowerstest\n",
    "###\n",
    "#need to rename the 60 30 variable and do as above because they have '-' symbols in them \n",
    "names = borrowerstest.columns.tolist()\n",
    "names[names.index('NumberOfTime60-89DaysPastDueNotWorse')] = 'Num6089DaysPastDueNotWorse'\n",
    "names[names.index('NumberOfTime30-59DaysPastDueNotWorse')] = 'Num3059DaysPastDueNotWorse'\n",
    "borrowerstest.columns = names\n",
    "\n",
    "### Now create more dummy variables.\n",
    "borrowerstest['LateOthers60'] = 5\n",
    "borrowerstest['LateRefusedToSay60'] = 5\n",
    "borrowerstest.ix[borrowerstest.Num6089DaysPastDueNotWorse == 96,'LateOthers60'] = 1; borrowerstest\n",
    "borrowerstest.ix[borrowerstest.Num6089DaysPastDueNotWorse != 96,'LateOthers60'] = 0; borrowerstest\n",
    "borrowerstest.ix[borrowerstest.Num6089DaysPastDueNotWorse == 98,'LateRefusedToSay60'] = 1; borrowerstest\n",
    "borrowerstest.ix[borrowerstest.Num6089DaysPastDueNotWorse != 98,'LateRefusedToSay60'] = 0; borrowerstest\n",
    "borrowerstest.ix[borrowerstest.Num6089DaysPastDueNotWorse == 98,'Num6089DaysPastDueNotWorse'] = 0; borrowerstest\n",
    "borrowerstest.ix[borrowerstest.Num6089DaysPastDueNotWorse == 96,'Num6089DaysPastDueNotWorse'] = 0; borrowerstest\n",
    "\n",
    "borrowerstest['LateOthers30'] = 5\n",
    "borrowerstest['LateRefusedToSay30'] = 5\n",
    "borrowerstest.ix[borrowerstest.Num3059DaysPastDueNotWorse == 96,'LateOthers30'] = 1; borrowerstest\n",
    "borrowerstest.ix[borrowerstest.Num3059DaysPastDueNotWorse != 96,'LateOthers30'] = 0; borrowerstest\n",
    "borrowerstest.ix[borrowerstest.Num3059DaysPastDueNotWorse == 98,'LateRefusedToSay30'] = 1; borrowerstest\n",
    "borrowerstest.ix[borrowerstest.Num3059DaysPastDueNotWorse != 98,'LateRefusedToSay30'] = 0; borrowerstest\n",
    "borrowerstest.ix[borrowerstest.Num3059DaysPastDueNotWorse == 98,'Num3059DaysPastDueNotWorse'] = 0; borrowerstest\n",
    "borrowerstest.ix[borrowerstest.Num3059DaysPastDueNotWorse == 96,'Num3059DaysPastDueNotWorse'] = 0; borrowerstest\n",
    "\n",
    "\n",
    "borrowerstest['debtratioanint'] = 1\n",
    "borrowerstest.ix[borrowerstest.DebtRatio%1 == 0,'debtratioanint'] = 1; borrowerstest\n",
    "borrowerstest.ix[borrowerstest.DebtRatio%1 != 0,'debtratioanint'] = 0; borrowerstest\n",
    "#borrowerstest.ix[borrowerstest.DebtRatio == 0,'debtratioanint'] = 0; borrowerstest\n",
    "\n",
    "my_inputtest = borrowerstest[['RevolvingUtilizationOfUnsecuredLines', 'age','Num3059DaysPastDueNotWorse', 'DebtRatio', 'MonthlyIncome', 'NumberOfOpenCreditLinesAndLoans', 'NumberOfTimes90DaysLate', 'NumberRealEstateLoansOrLines', 'Num6089DaysPastDueNotWorse','NumberOfDependents', 'LateOthers90', 'LateRefusedToSay90','LateOthers60', 'LateRefusedToSay60','LateOthers30', 'LateRefusedToSay30','debtratioanint']].values\n",
    "#predictionstest = logm.predict_proba(my_inputtest)[:,1]\n",
    "predictionstest = gnb.predict_proba(my_inputtest)[:,1]\n",
    "\n",
    "submission = DataFrame({'Id':borrowerstest.icol(0), 'Probability':predictionstest})\n",
    "submission.to_csv('Entry.csv', index=False)"
   ]
  },
  {
   "cell_type": "code",
   "execution_count": 40,
   "metadata": {
    "collapsed": false
   },
   "outputs": [
    {
     "name": "stdout",
     "output_type": "stream",
     "text": [
      "Populating the interactive namespace from numpy and matplotlib\n",
      "AdaBoost with 30 estimators has a score of 0.999983210913\n",
      "[[111219      1]\n",
      " [     1   7904]]\n"
     ]
    },
    {
     "name": "stderr",
     "output_type": "stream",
     "text": [
      "WARNING: pylab import has clobbered these variables: ['clf']\n",
      "`%matplotlib` prevents importing * from pylab and numpy\n"
     ]
    },
    {
     "data": {
      "text/plain": [
       "[<matplotlib.lines.Line2D at 0x10dc42b10>]"
      ]
     },
     "execution_count": 40,
     "metadata": {},
     "output_type": "execute_result"
    },
    {
     "data": {
      "image/png": "[encoded data removed]",
      "text/plain": [
       "<matplotlib.figure.Figure at 0x10a13ce90>"
      ]
     },
     "metadata": {},
     "output_type": "display_data"
    }
   ],
   "source": [
    "#Ensemble Techniques\n",
    "\n",
    "import numpy as np\n",
    "import pylab as pl\n",
    "%pylab inline\n",
    "\n",
    "from sklearn import clone\n",
    "#from sklearn.datasets import load_iris\n",
    "\n",
    "from sklearn.ensemble.weight_boosting import AdaBoostClassifier\n",
    "from sklearn.ensemble.forest import (RandomForestClassifier, ExtraTreesClassifier)\n",
    "\n",
    "from sklearn.externals.six.moves import xrange\n",
    "from sklearn.tree import DecisionTreeClassifier\n",
    "\n",
    "# Parameters\n",
    "n_classes = 3\n",
    "n_estimators = 30\n",
    "plot_colors = \"bry\"\n",
    "plot_step = 0.02\n",
    "\n",
    "# Load data\n",
    "#iris = load_iris()\n",
    "\n",
    "plot_idx = 1\n",
    "\n",
    "#for pair in ([0, 1], [0, 2], [2, 3]):\n",
    "    #for model in (DecisionTreeClassifier()):\n",
    "model = AdaBoostClassifier(DecisionTreeClassifier(), n_estimators=n_estimators)\n",
    "# We only take the two corresponding features\n",
    "X = my_input\n",
    "y = default_output\n",
    "\n",
    "# Shuffle\n",
    "idx = np.arange(X.shape[0])\n",
    "np.random.seed(13)\n",
    "np.random.shuffle(idx)\n",
    "X = X[idx]\n",
    "y = y[idx]\n",
    "\n",
    "\n",
    "\n",
    "# Train\n",
    "clf = model.fit(X, y)\n",
    "\n",
    "# Get accuracy scores\n",
    "scores = clf.score(X, y)\n",
    "# Create a title for each column and the console by using str() and slicing away useless parts of the string\n",
    "model_title = str(type(model)).split(\".\")[-1][:-2][:-len(\"Classifier\")]\n",
    "model_details = model_title\n",
    "if hasattr(model, \"estimators_\"):\n",
    "    model_details += \" with {} estimators\".format(len(model.estimators_))\n",
    "print model_details + \" has a score of\", scores\n",
    "\n",
    "predictionstest = model.predict_proba(my_inputtest)[:,1]\n",
    "submission = DataFrame({'Id':borrowerstest.icol(0), 'Probability':predictionstest})\n",
    "submission.to_csv('EntryADA.csv', index=False)\n",
    "y_pred = model.predict(my_input)\n",
    "print metrics.confusion_matrix(default_output, y_pred)\n",
    "fpr, tpr, thresholds = metrics.roc_curve(default_output, y_pred)\n",
    "plt.plot(fpr, tpr)"
   ]
  },
  {
   "cell_type": "code",
   "execution_count": 41,
   "metadata": {
    "collapsed": false
   },
   "outputs": [
    {
     "name": "stdout",
     "output_type": "stream",
     "text": [
      "[[32203  1167]\n",
      " [ 1862   506]]\n"
     ]
    },
    {
     "data": {
      "text/plain": [
       "[0.91524427779954109]"
      ]
     },
     "execution_count": 41,
     "metadata": {},
     "output_type": "execute_result"
    },
    {
     "data": {
      "image/png": "[encoded data removed]",
      "text/plain": [
       "<matplotlib.figure.Figure at 0x10bfb4e10>"
      ]
     },
     "metadata": {},
     "output_type": "display_data"
    }
   ],
   "source": [
    "#Cross Validation\n",
    "# We would like to create out training set \n",
    "n = int(len(default_output) * 0.7)\n",
    "# Stack array in sequence horizointally with hstack\n",
    "ind = np.hstack( (np.ones(n, dtype=np.bool), np.zeros(len(default_output) - n, dtype=np.bool) ) )\n",
    "np.random.shuffle(ind)\n",
    "# we can create our training and testing set \n",
    "X_train, X_test = my_input[ind], my_input[ind==False]\n",
    "Y_train, Y_test = default_output[ind], default_output[ind==False]\n",
    "# Let us do the magic!\n",
    "model.fit(X_train, Y_train)\n",
    "model.score(X_test, Y_test) \n",
    "#Application of cross validation\n",
    "#The work in class showed that with 21 neighbors, we can get an \n",
    "#ideal result that doesnt overfit the data. To verify this, we'll use \n",
    "#cross validation\n",
    "scores=[]\n",
    "#for k in range(5):\n",
    "k=1\n",
    "np.random.shuffle(ind)\n",
    "X_train, X_test = my_input[ind],my_input[ind==False]\n",
    "Y_train, Y_test = default_output[ind],default_output[ind==False]\n",
    "model.fit(X_train, Y_train)\n",
    "scores.append(model.score(X_test, Y_test))\n",
    "predictionstest = model.predict_proba(my_inputtest)[:,1]\n",
    "submission = DataFrame({'Id':borrowerstest.icol(0), 'Probability':predictionstest})\n",
    "submission.to_csv('EntryADA'+str(k)+'.csv', index=False)\n",
    "y_pred = model.predict(X_test)\n",
    "print metrics.confusion_matrix(Y_test, y_pred)\n",
    "fpr, tpr, thresholds = metrics.roc_curve(Y_test, y_pred)\n",
    "plt.plot(fpr, tpr)\n",
    "scores"
   ]
  },
  {
   "cell_type": "code",
   "execution_count": 22,
   "metadata": {
    "collapsed": false
   },
   "outputs": [
    {
     "data": {
      "text/plain": [
       "[<matplotlib.lines.Line2D at 0x108967b50>]"
      ]
     },
     "execution_count": 22,
     "metadata": {},
     "output_type": "execute_result"
    },
    {
     "data": {
      "image/png": "[encoded data removed]",
      "text/plain": [
       "<matplotlib.figure.Figure at 0x10b77c490>"
      ]
     },
     "metadata": {},
     "output_type": "display_data"
    }
   ],
   "source": [
    "fpr, tpr, thresholds = metrics.roc_curve(default_output, y_pred)\n",
    "plt.plot(fpr, tpr)"
   ]
  },
  {
   "cell_type": "code",
   "execution_count": 23,
   "metadata": {
    "collapsed": false
   },
   "outputs": [
    {
     "data": {
      "text/plain": [
       "[0.91524427779954109]"
      ]
     },
     "execution_count": 23,
     "metadata": {},
     "output_type": "execute_result"
    }
   ],
   "source": [
    "scores\n"
   ]
  },
  {
   "cell_type": "code",
   "execution_count": 38,
   "metadata": {
    "collapsed": false
   },
   "outputs": [
    {
     "name": "stdout",
     "output_type": "stream",
     "text": [
      "Populating the interactive namespace from numpy and matplotlib\n",
      "DecisionTree has a score of 0.999983210913\n",
      "[[111219      1]\n",
      " [     1   7904]]\n"
     ]
    },
    {
     "name": "stderr",
     "output_type": "stream",
     "text": [
      "WARNING: pylab import has clobbered these variables: ['clf']\n",
      "`%matplotlib` prevents importing * from pylab and numpy\n"
     ]
    },
    {
     "data": {
      "text/plain": [
       "[<matplotlib.lines.Line2D at 0x10d6a8750>]"
      ]
     },
     "execution_count": 38,
     "metadata": {},
     "output_type": "execute_result"
    },
    {
     "data": {
      "image/png": "[encoded data removed]",
      "text/plain": [
       "<matplotlib.figure.Figure at 0x1087a1f90>"
      ]
     },
     "metadata": {},
     "output_type": "display_data"
    }
   ],
   "source": [
    "#Ensemble Techniques\n",
    "\n",
    "import numpy as np\n",
    "import pylab as pl\n",
    "%pylab inline\n",
    "\n",
    "from sklearn import clone\n",
    "#from sklearn.datasets import load_iris\n",
    "\n",
    "from sklearn.ensemble.weight_boosting import AdaBoostClassifier\n",
    "from sklearn.ensemble.forest import (RandomForestClassifier, ExtraTreesClassifier)\n",
    "\n",
    "from sklearn.externals.six.moves import xrange\n",
    "from sklearn.tree import DecisionTreeClassifier\n",
    "\n",
    "# Parameters\n",
    "n_classes = 3\n",
    "n_estimators = 30\n",
    "plot_colors = \"bry\"\n",
    "plot_step = 0.02\n",
    "\n",
    "# Load data\n",
    "#iris = load_iris()\n",
    "\n",
    "plot_idx = 1\n",
    "\n",
    "#for pair in ([0, 1], [0, 2], [2, 3]):\n",
    "    #for model in (DecisionTreeClassifier()):\n",
    "model = DecisionTreeClassifier()\n",
    "# We only take the two corresponding features\n",
    "X = my_input\n",
    "y = default_output\n",
    "\n",
    "# Shuffle\n",
    "idx = np.arange(X.shape[0])\n",
    "np.random.seed(13)\n",
    "np.random.shuffle(idx)\n",
    "X = X[idx]\n",
    "y = y[idx]\n",
    "\n",
    "\n",
    "# Train\n",
    "clf = model.fit(X, y)\n",
    "\n",
    "# Get accuracy scores\n",
    "scores = clf.score(X, y)\n",
    "# Create a title for each column and the console by using str() and slicing away useless parts of the string\n",
    "model_title = str(type(model)).split(\".\")[-1][:-2][:-len(\"Classifier\")]\n",
    "model_details = model_title\n",
    "if hasattr(model, \"estimators_\"):\n",
    "    model_details += \" with {} estimators\".format(len(model.estimators_))\n",
    "print model_details + \" has a score of\", scores\n",
    "\n",
    "predictionstest = model.predict_proba(my_inputtest)[:,1]\n",
    "submission = DataFrame({'Id':borrowerstest.icol(0), 'Probability':predictionstest})\n",
    "submission.to_csv('EntryDecTree.csv', index=False)\n",
    "y_pred = model.predict(my_input)\n",
    "print metrics.confusion_matrix(default_output, y_pred)\n",
    "fpr, tpr, thresholds = metrics.roc_curve(default_output, y_pred)\n",
    "plt.plot(fpr, tpr)"
   ]
  },
  {
   "cell_type": "code",
   "execution_count": 39,
   "metadata": {
    "collapsed": false
   },
   "outputs": [
    {
     "name": "stdout",
     "output_type": "stream",
     "text": [
      "[[31332  2019]\n",
      " [ 1784   603]]\n"
     ]
    },
    {
     "data": {
      "text/plain": [
       "[0.89358665845878338]"
      ]
     },
     "execution_count": 39,
     "metadata": {},
     "output_type": "execute_result"
    },
    {
     "data": {
      "image/png": "[encoded data removed]",
      "text/plain": [
       "<matplotlib.figure.Figure at 0x10d899c10>"
      ]
     },
     "metadata": {},
     "output_type": "display_data"
    }
   ],
   "source": [
    "#Cross Validation\n",
    "# We would like to create out training set \n",
    "n = int(len(default_output) * 0.7)\n",
    "# Stack array in sequence horizointally with hstack\n",
    "ind = np.hstack( (np.ones(n, dtype=np.bool), np.zeros(len(default_output) - n, dtype=np.bool) ) )\n",
    "np.random.shuffle(ind)\n",
    "# we can create our training and testing set \n",
    "X_train, X_test = my_input[ind], my_input[ind==False]\n",
    "Y_train, Y_test = default_output[ind], default_output[ind==False]\n",
    "# Let us do the magic!\n",
    "model.fit(X_train, Y_train)\n",
    "model.score(X_test, Y_test) \n",
    "#Application of cross validation\n",
    "#The work in class showed that with 21 neighbors, we can get an \n",
    "#ideal result that doesnt overfit the data. To verify this, we'll use \n",
    "#cross validation\n",
    "scores=[]\n",
    "#for k in range(5):\n",
    "k=1\n",
    "np.random.shuffle(ind)\n",
    "X_train, X_test = my_input[ind],my_input[ind==False]\n",
    "Y_train, Y_test = default_output[ind],default_output[ind==False]\n",
    "model.fit(X_train, Y_train)\n",
    "scores.append(model.score(X_test, Y_test))\n",
    "predictionstest = model.predict_proba(my_inputtest)[:,1]\n",
    "submission = DataFrame({'Id':borrowerstest.icol(0), 'Probability':predictionstest})\n",
    "submission.to_csv('EntryDecTree'+str(k)+'.csv', index=False)\n",
    "y_pred = model.predict(X_test)\n",
    "print metrics.confusion_matrix(Y_test, y_pred)\n",
    "fpr, tpr, thresholds = metrics.roc_curve(Y_test, y_pred)\n",
    "plt.plot(fpr, tpr)\n",
    "scores"
   ]
  },
  {
   "cell_type": "code",
   "execution_count": 37,
   "metadata": {
    "collapsed": false
   },
   "outputs": [
    {
     "name": "stdout",
     "output_type": "stream",
     "text": [
      "Populating the interactive namespace from numpy and matplotlib\n",
      "RandomForest with 30 estimators has a score of 0.998044071354\n",
      "[[111218      2]\n",
      " [   231   7674]]\n"
     ]
    },
    {
     "name": "stderr",
     "output_type": "stream",
     "text": [
      "WARNING: pylab import has clobbered these variables: ['clf']\n",
      "`%matplotlib` prevents importing * from pylab and numpy\n"
     ]
    },
    {
     "data": {
      "text/plain": [
       "[<matplotlib.lines.Line2D at 0x10bfdce10>]"
      ]
     },
     "execution_count": 37,
     "metadata": {},
     "output_type": "execute_result"
    },
    {
     "data": {
      "image/png": "[encoded data removed]",
      "text/plain": [
       "<matplotlib.figure.Figure at 0x10bba9310>"
      ]
     },
     "metadata": {},
     "output_type": "display_data"
    }
   ],
   "source": [
    "\n",
    "\n",
    "#Ensemble Techniques\n",
    "\n",
    "import numpy as np\n",
    "import pylab as pl\n",
    "%pylab inline\n",
    "\n",
    "from sklearn import clone\n",
    "#from sklearn.datasets import load_iris\n",
    "\n",
    "from sklearn.ensemble.weight_boosting import AdaBoostClassifier\n",
    "from sklearn.ensemble.forest import (RandomForestClassifier, ExtraTreesClassifier)\n",
    "\n",
    "from sklearn.externals.six.moves import xrange\n",
    "from sklearn.tree import DecisionTreeClassifier\n",
    "\n",
    "# Parameters\n",
    "n_classes = 3\n",
    "n_estimators = 30\n",
    "plot_colors = \"bry\"\n",
    "plot_step = 0.02\n",
    "\n",
    "# Load data\n",
    "#iris = load_iris()\n",
    "\n",
    "plot_idx = 1\n",
    "\n",
    "#for pair in ([0, 1], [0, 2], [2, 3]):\n",
    "    #for model in (DecisionTreeClassifier()):\n",
    "model = RandomForestClassifier(n_estimators=n_estimators)\n",
    "# We only take the two corresponding features\n",
    "X = my_input\n",
    "y = default_output\n",
    "\n",
    "# Shuffle\n",
    "idx = np.arange(X.shape[0])\n",
    "np.random.seed(13)\n",
    "np.random.shuffle(idx)\n",
    "X = X[idx]\n",
    "y = y[idx]\n",
    "\n",
    "\n",
    "# Train\n",
    "clf = model.fit(X, y)\n",
    "\n",
    "# Get accuracy scores\n",
    "scores = clf.score(X, y)\n",
    "# Create a title for each column and the console by using str() and slicing away useless parts of the string\n",
    "model_title = str(type(model)).split(\".\")[-1][:-2][:-len(\"Classifier\")]\n",
    "model_details = model_title\n",
    "if hasattr(model, \"estimators_\"):\n",
    "    model_details += \" with {} estimators\".format(len(model.estimators_))\n",
    "print model_details + \" has a score of\", scores\n",
    "\n",
    "predictionstest = model.predict_proba(my_inputtest)[:,1]\n",
    "submission = DataFrame({'Id':borrowerstest.icol(0), 'Probability':predictionstest})\n",
    "submission.to_csv('EntryDecTree.csv', index=False)\n",
    "y_pred = model.predict(my_input)\n",
    "print metrics.confusion_matrix(default_output, y_pred)\n",
    "fpr, tpr, thresholds = metrics.roc_curve(default_output, y_pred)\n",
    "plt.plot(fpr, tpr)"
   ]
  },
  {
   "cell_type": "code",
   "execution_count": 36,
   "metadata": {
    "collapsed": false,
    "scrolled": true
   },
   "outputs": [
    {
     "name": "stdout",
     "output_type": "stream",
     "text": [
      "[[33056   300]\n",
      " [ 2038   344]]\n"
     ]
    },
    {
     "data": {
      "text/plain": [
       "[0.93457943925233644]"
      ]
     },
     "execution_count": 36,
     "metadata": {},
     "output_type": "execute_result"
    },
    {
     "data": {
      "image/png": "[encoded data removed]",
      "text/plain": [
       "<matplotlib.figure.Figure at 0x1093e2690>"
      ]
     },
     "metadata": {},
     "output_type": "display_data"
    }
   ],
   "source": [
    "#Cross Validation\n",
    "# We would like to create out training set \n",
    "n = int(len(default_output) * 0.7)\n",
    "# Stack array in sequence horizointally with hstack\n",
    "ind = np.hstack( (np.ones(n, dtype=np.bool), np.zeros(len(default_output) - n, dtype=np.bool) ) )\n",
    "np.random.shuffle(ind)\n",
    "# we can create our training and testing set \n",
    "X_train, X_test = my_input[ind], my_input[ind==False]\n",
    "Y_train, Y_test = default_output[ind], default_output[ind==False]\n",
    "# Let us do the magic!\n",
    "model.fit(X_train, Y_train)\n",
    "model.score(X_test, Y_test) \n",
    "#Application of cross validation\n",
    "#The work in class showed that with 21 neighbors, we can get an \n",
    "#ideal result that doesnt overfit the data. To verify this, we'll use \n",
    "#cross validation\n",
    "scores=[]\n",
    "#for k in range(5):\n",
    "k=1\n",
    "np.random.shuffle(ind)\n",
    "X_train, X_test = my_input[ind],my_input[ind==False]\n",
    "Y_train, Y_test = default_output[ind],default_output[ind==False]\n",
    "model.fit(X_train, Y_train)\n",
    "scores.append(model.score(X_test, Y_test))\n",
    "predictionstest = model.predict_proba(my_inputtest)[:,1]\n",
    "submission = DataFrame({'Id':borrowerstest.icol(0), 'Probability':predictionstest})\n",
    "submission.to_csv('EntryDecTree'+str(k)+'.csv', index=False)\n",
    "y_pred = model.predict(X_test)\n",
    "print metrics.confusion_matrix(Y_test, y_pred)\n",
    "fpr, tpr, thresholds = metrics.roc_curve(Y_test, y_pred)\n",
    "plt.plot(fpr, tpr)\n",
    "scores"
   ]
  },
  {
   "cell_type": "code",
   "execution_count": 28,
   "metadata": {
    "collapsed": false
   },
   "outputs": [],
   "source": [
    "# now lets try creating a seprate variable when debt ratio is an integer\n",
    "borrowers = pd.read_csv(u'./cs-training.csv')\n",
    "borrowers = borrowers.dropna()\n",
    "#borrowers = borrowers[borrowers.NumberOfTimes90DaysLate < 96]\n",
    "borrowers = borrowers[borrowers.RevolvingUtilizationOfUnsecuredLines < 1.1]\n",
    "borrowers = borrowers[borrowers.NumberRealEstateLoansOrLines < 32]\n",
    "borrowers = borrowers[borrowers.age > 0]\n",
    "#borrowers = borrowers[borrowers.age < 100]\n",
    "#borrowers = borrowers[borrowers.DebtRatio < 2]\n",
    "borrowers['LateOthers90'] = 5#just initialising it\n",
    "borrowers['LateRefusedToSay90'] = 5\n",
    "borrowers.ix[borrowers.NumberOfTimes90DaysLate == 96,'LateOthers90'] = 1; borrowers\n",
    "borrowers.ix[borrowers.NumberOfTimes90DaysLate != 96,'LateOthers90'] = 0; borrowers\n",
    "borrowers.ix[borrowers.NumberOfTimes90DaysLate == 98,'LateRefusedToSay90'] = 1; borrowers\n",
    "borrowers.ix[borrowers.NumberOfTimes90DaysLate != 98,'LateRefusedToSay90'] = 0; borrowers\n",
    "borrowers.ix[borrowers.NumberOfTimes90DaysLate == 98,'NumberOfTimes90DaysLate'] = 0; borrowers\n",
    "borrowers.ix[borrowers.NumberOfTimes90DaysLate == 96,'NumberOfTimes90DaysLate'] = 0; borrowers\n",
    "###\n",
    "#need to rename the 60 30 variable and do as above because they have '-' symbols in them \n",
    "names = borrowers.columns.tolist()\n",
    "names[names.index('NumberOfTime60-89DaysPastDueNotWorse')] = 'Num6089DaysPastDueNotWorse'\n",
    "names[names.index('NumberOfTime30-59DaysPastDueNotWorse')] = 'Num3059DaysPastDueNotWorse'\n",
    "borrowers.columns = names\n",
    "\n",
    "### Now create more dummy variables.\n",
    "borrowers['LateOthers60'] = 5\n",
    "borrowers['LateRefusedToSay60'] = 5\n",
    "borrowers.ix[borrowers.Num6089DaysPastDueNotWorse == 96,'LateOthers60'] = 1; borrowers\n",
    "borrowers.ix[borrowers.Num6089DaysPastDueNotWorse != 96,'LateOthers60'] = 0; borrowers\n",
    "borrowers.ix[borrowers.Num6089DaysPastDueNotWorse == 98,'LateRefusedToSay60'] = 1; borrowers\n",
    "borrowers.ix[borrowers.Num6089DaysPastDueNotWorse != 98,'LateRefusedToSay60'] = 0; borrowers\n",
    "borrowers.ix[borrowers.Num6089DaysPastDueNotWorse == 98,'Num6089DaysPastDueNotWorse'] = 0; borrowers\n",
    "borrowers.ix[borrowers.Num6089DaysPastDueNotWorse == 96,'Num6089DaysPastDueNotWorse'] = 0; borrowers\n",
    "\n",
    "borrowers['LateOthers30'] = 5\n",
    "borrowers['LateRefusedToSay30'] = 5\n",
    "borrowers.ix[borrowers.Num3059DaysPastDueNotWorse == 96,'LateOthers30'] = 1; borrowers\n",
    "borrowers.ix[borrowers.Num3059DaysPastDueNotWorse != 96,'LateOthers30'] = 0; borrowers\n",
    "borrowers.ix[borrowers.Num3059DaysPastDueNotWorse == 98,'LateRefusedToSay30'] = 1; borrowers\n",
    "borrowers.ix[borrowers.Num3059DaysPastDueNotWorse != 98,'LateRefusedToSay30'] = 0; borrowers\n",
    "borrowers.ix[borrowers.Num3059DaysPastDueNotWorse == 98,'Num3059DaysPastDueNotWorse'] = 0; borrowers\n",
    "borrowers.ix[borrowers.Num3059DaysPastDueNotWorse == 96,'Num3059DaysPastDueNotWorse'] = 0; borrowers\n",
    "\n",
    "#borrowers.ix[borrowers.NumberOfTimes90DaysLate == 98,'NumberOfTime30-59DaysPastDueNotWorse'] = 0; borrowers\n",
    "#borrowers.ix[borrowers.NumberOfTimes90DaysLate == 96,'NumberOfTime30-59DaysPastDueNotWorse'] = 0; borrowers\n",
    "#borrowers.ix[borrowers.NumberOfTimes90DaysLate == 98,'NumberOfTime60-89DaysPastDueNotWorse'] = 0; borrowers\n",
    "#borrowers.ix[borrowers.NumberOfTimes90DaysLate == 96,'NumberOfTime60-89DaysPastDueNotWorse'] = 0; borrowers\n",
    "\n",
    "borrowers['debtratioanint'] = 1\n",
    "borrowers.ix[borrowers.DebtRatio%1 == 0,'debtratioanint'] = 1; borrowers\n",
    "borrowers.ix[borrowers.DebtRatio%1 != 0,'debtratioanint'] = 0; borrowers\n",
    "#borrowers.ix[borrowers.DebtRatio == 0,'debtratioanint'] = 0; borrowers\n",
    "\n",
    "my_input = borrowers[['RevolvingUtilizationOfUnsecuredLines', 'age','Num3059DaysPastDueNotWorse', 'DebtRatio', 'MonthlyIncome', 'NumberOfOpenCreditLinesAndLoans', 'NumberOfTimes90DaysLate', 'NumberRealEstateLoansOrLines', 'Num6089DaysPastDueNotWorse','NumberOfDependents', 'LateOthers90', 'LateRefusedToSay90','LateOthers60', 'LateRefusedToSay60','LateOthers30', 'LateRefusedToSay30','debtratioanint']].values\n",
    "\n",
    "default_output = borrowers['SeriousDlqin2yrs'].values\n",
    "\n",
    "#a=logm.fit(my_input, default_output)\n",
    "#logm.score(my_input, default_output)\n",
    "# We need to define some variables to start our modelling\n",
    "from sklearn import neighbors, datasets, feature_selection\n",
    "n_neighbours = range(1,51,2) \n",
    "knnscore = []\n",
    "for k in n_neighbours:\n",
    "    knn = neighbors.KNeighborsClassifier(k)\n",
    "    knn.fit(my_input, default_output)\n",
    "    knnscore.append(clf.score(my_input, default_output) )"
   ]
  },
  {
   "cell_type": "code",
   "execution_count": 30,
   "metadata": {
    "collapsed": false
   },
   "outputs": [
    {
     "data": {
      "text/plain": [
       "[0.97910598111227698,\n",
       " 0.97910598111227698,\n",
       " 0.97910598111227698,\n",
       " 0.97910598111227698,\n",
       " 0.97910598111227698,\n",
       " 0.97910598111227698,\n",
       " 0.97910598111227698,\n",
       " 0.97910598111227698,\n",
       " 0.97910598111227698,\n",
       " 0.97910598111227698,\n",
       " 0.97910598111227698,\n",
       " 0.97910598111227698,\n",
       " 0.97910598111227698,\n",
       " 0.97910598111227698,\n",
       " 0.97910598111227698,\n",
       " 0.97910598111227698,\n",
       " 0.97910598111227698,\n",
       " 0.97910598111227698,\n",
       " 0.97910598111227698,\n",
       " 0.97910598111227698,\n",
       " 0.97910598111227698,\n",
       " 0.97910598111227698,\n",
       " 0.97910598111227698,\n",
       " 0.97910598111227698,\n",
       " 0.97910598111227698]"
      ]
     },
     "execution_count": 30,
     "metadata": {},
     "output_type": "execute_result"
    }
   ],
   "source": [
    "knnscore"
   ]
  },
  {
   "cell_type": "code",
   "execution_count": 31,
   "metadata": {
    "collapsed": true
   },
   "outputs": [],
   "source": [
    "#output results\n",
    "borrowerstest = pd.read_csv(u'./cs-test.csv')\n",
    "borrowerstest = borrowerstest.fillna(0)\n",
    "\n",
    "borrowerstest['LateOthers90'] = 5#just initialising it\n",
    "borrowerstest['LateRefusedToSay90'] = 5\n",
    "borrowerstest.ix[borrowerstest.NumberOfTimes90DaysLate == 96,'LateOthers90'] = 1; borrowerstest\n",
    "borrowerstest.ix[borrowerstest.NumberOfTimes90DaysLate != 96,'LateOthers90'] = 0; borrowerstest\n",
    "borrowerstest.ix[borrowerstest.NumberOfTimes90DaysLate == 98,'LateRefusedToSay90'] = 1; borrowerstest\n",
    "borrowerstest.ix[borrowerstest.NumberOfTimes90DaysLate != 98,'LateRefusedToSay90'] = 0; borrowerstest\n",
    "borrowerstest.ix[borrowerstest.NumberOfTimes90DaysLate == 98,'NumberOfTimes90DaysLate'] = 0; borrowerstest\n",
    "borrowerstest.ix[borrowerstest.NumberOfTimes90DaysLate == 96,'NumberOfTimes90DaysLate'] = 0; borrowerstest\n",
    "###\n",
    "#need to rename the 60 30 variable and do as above because they have '-' symbols in them \n",
    "names = borrowerstest.columns.tolist()\n",
    "names[names.index('NumberOfTime60-89DaysPastDueNotWorse')] = 'Num6089DaysPastDueNotWorse'\n",
    "names[names.index('NumberOfTime30-59DaysPastDueNotWorse')] = 'Num3059DaysPastDueNotWorse'\n",
    "borrowerstest.columns = names\n",
    "\n",
    "### Now create more dummy variables.\n",
    "borrowerstest['LateOthers60'] = 5\n",
    "borrowerstest['LateRefusedToSay60'] = 5\n",
    "borrowerstest.ix[borrowerstest.Num6089DaysPastDueNotWorse == 96,'LateOthers60'] = 1; borrowerstest\n",
    "borrowerstest.ix[borrowerstest.Num6089DaysPastDueNotWorse != 96,'LateOthers60'] = 0; borrowerstest\n",
    "borrowerstest.ix[borrowerstest.Num6089DaysPastDueNotWorse == 98,'LateRefusedToSay60'] = 1; borrowerstest\n",
    "borrowerstest.ix[borrowerstest.Num6089DaysPastDueNotWorse != 98,'LateRefusedToSay60'] = 0; borrowerstest\n",
    "borrowerstest.ix[borrowerstest.Num6089DaysPastDueNotWorse == 98,'Num6089DaysPastDueNotWorse'] = 0; borrowerstest\n",
    "borrowerstest.ix[borrowerstest.Num6089DaysPastDueNotWorse == 96,'Num6089DaysPastDueNotWorse'] = 0; borrowerstest\n",
    "\n",
    "borrowerstest['LateOthers30'] = 5\n",
    "borrowerstest['LateRefusedToSay30'] = 5\n",
    "borrowerstest.ix[borrowerstest.Num3059DaysPastDueNotWorse == 96,'LateOthers30'] = 1; borrowerstest\n",
    "borrowerstest.ix[borrowerstest.Num3059DaysPastDueNotWorse != 96,'LateOthers30'] = 0; borrowerstest\n",
    "borrowerstest.ix[borrowerstest.Num3059DaysPastDueNotWorse == 98,'LateRefusedToSay30'] = 1; borrowerstest\n",
    "borrowerstest.ix[borrowerstest.Num3059DaysPastDueNotWorse != 98,'LateRefusedToSay30'] = 0; borrowerstest\n",
    "borrowerstest.ix[borrowerstest.Num3059DaysPastDueNotWorse == 98,'Num3059DaysPastDueNotWorse'] = 0; borrowerstest\n",
    "borrowerstest.ix[borrowerstest.Num3059DaysPastDueNotWorse == 96,'Num3059DaysPastDueNotWorse'] = 0; borrowerstest\n",
    "\n",
    "\n",
    "borrowerstest['debtratioanint'] = 1\n",
    "borrowerstest.ix[borrowerstest.DebtRatio%1 == 0,'debtratioanint'] = 1; borrowerstest\n",
    "borrowerstest.ix[borrowerstest.DebtRatio%1 != 0,'debtratioanint'] = 0; borrowerstest\n",
    "#borrowerstest.ix[borrowerstest.DebtRatio == 0,'debtratioanint'] = 0; borrowerstest\n",
    "\n",
    "my_inputtest = borrowerstest[['RevolvingUtilizationOfUnsecuredLines', 'age','Num3059DaysPastDueNotWorse', 'DebtRatio', 'MonthlyIncome', 'NumberOfOpenCreditLinesAndLoans', 'NumberOfTimes90DaysLate', 'NumberRealEstateLoansOrLines', 'Num6089DaysPastDueNotWorse','NumberOfDependents', 'LateOthers90', 'LateRefusedToSay90','LateOthers60', 'LateRefusedToSay60','LateOthers30', 'LateRefusedToSay30','debtratioanint']].values\n",
    "predictionstest = knn.predict_proba(my_inputtest)[:,1]\n",
    "\n",
    "submission = DataFrame({'Id':borrowerstest.icol(0), 'Probability':predictionstest})\n",
    "submission.to_csv('EntryKNN.csv', index=False)"
   ]
  },
  {
   "cell_type": "code",
   "execution_count": 32,
   "metadata": {
    "collapsed": false
   },
   "outputs": [
    {
     "name": "stdout",
     "output_type": "stream",
     "text": [
      "[[111220      0]\n",
      " [  7905      0]]\n"
     ]
    },
    {
     "data": {
      "text/plain": [
       "[0.93527897476075883]"
      ]
     },
     "execution_count": 32,
     "metadata": {},
     "output_type": "execute_result"
    },
    {
     "data": {
      "image/png": "[encoded data removed]",
      "text/plain": [
       "<matplotlib.figure.Figure at 0x107b05a90>"
      ]
     },
     "metadata": {},
     "output_type": "display_data"
    }
   ],
   "source": [
    "#Cross Validation\n",
    "# We would like to create out training set \n",
    "n = int(len(default_output) * 0.7)\n",
    "# Stack array in sequence horizointally with hstack\n",
    "ind = np.hstack( (np.ones(n, dtype=np.bool), np.zeros(len(default_output) - n, dtype=np.bool) ) )\n",
    "np.random.shuffle(ind)\n",
    "# we can create our training and testing set \n",
    "X_train, X_test = my_input[ind], my_input[ind==False]\n",
    "Y_train, Y_test = default_output[ind], default_output[ind==False]\n",
    "# Let us do the magic!\n",
    "knn.fit(X_train, Y_train)\n",
    "knn.score(X_test, Y_test) \n",
    "#Application of cross validation\n",
    "#The work in class showed that with 21 neighbors, we can get an \n",
    "#ideal result that doesnt overfit the data. To verify this, we'll use \n",
    "#cross validation\n",
    "scores=[]\n",
    "#for k in range(5):\n",
    "k=1\n",
    "np.random.shuffle(ind)\n",
    "X_train, X_test = my_input[ind],my_input[ind==False]\n",
    "Y_train, Y_test = default_output[ind],default_output[ind==False]\n",
    "knn.fit(X_train, Y_train)\n",
    "scores.append(knn.score(X_test, Y_test))\n",
    "predictionstest = knn.predict_proba(my_inputtest)[:,1]\n",
    "submission = DataFrame({'Id':borrowerstest.icol(0), 'Probability':predictionstest})\n",
    "submission.to_csv('EntryKnn'+str(k)+'.csv', index=False)\n",
    "y_pred = knn.predict(my_input)\n",
    "print metrics.confusion_matrix(default_output, y_pred)\n",
    "fpr, tpr, thresholds = metrics.roc_curve(default_output, y_pred)\n",
    "plt.plot(fpr, tpr)\n",
    "scores"
   ]
  },
  {
   "cell_type": "code",
   "execution_count": null,
   "metadata": {
    "collapsed": true
   },
   "outputs": [],
   "source": []
  }
 ],
 "metadata": {
  "kernelspec": {
   "display_name": "Python 2",
   "language": "python",
   "name": "python2"
  },
  "language_info": {
   "codemirror_mode": {
    "name": "ipython",
    "version": 2
   },
   "file_extension": ".py",
   "mimetype": "text/x-python",
   "name": "python",
   "nbconvert_exporter": "python",
   "pygments_lexer": "ipython2",
   "version": "2.7.10"
  }
 },
 "nbformat": 4,
 "nbformat_minor": 0
}
